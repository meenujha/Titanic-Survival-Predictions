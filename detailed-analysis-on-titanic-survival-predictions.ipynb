{
 "cells": [
  {
   "cell_type": "code",
   "execution_count": 1,
   "metadata": {
    "_cell_guid": "b1076dfc-b9ad-4769-8c92-a6c4dae69d19",
    "_uuid": "8f2839f25d086af736a60e9eeb907d3b93b6e0e5"
   },
   "outputs": [
    {
     "name": "stdout",
     "output_type": "stream",
     "text": [
      "/kaggle/input/titanic/train.csv\n",
      "/kaggle/input/titanic/gender_submission.csv\n",
      "/kaggle/input/titanic/test.csv\n"
     ]
    }
   ],
   "source": [
    "# This Python 3 environment comes with many helpful analytics libraries installed\n",
    "# It is defined by the kaggle/python Docker image: https://github.com/kaggle/docker-python\n",
    "# For example, here's several helpful packages to load\n",
    "\n",
    "import numpy as np # linear algebra\n",
    "import pandas as pd # data processing, CSV file I/O (e.g. pd.read_csv)\n",
    "import matplotlib.pyplot as plt\n",
    "import seaborn as sns\n",
    "%matplotlib inline\n",
    "# Input data files are available in the read-only \"../input/\" directory\n",
    "# For example, running this (by clicking run or pressing Shift+Enter) will list all files under the input directory\n",
    "\n",
    "import os\n",
    "for dirname, _, filenames in os.walk('/kaggle/input'):\n",
    "    for filename in filenames:\n",
    "        print(os.path.join(dirname, filename))\n",
    "\n",
    "# You can write up to 5GB to the current directory (/kaggle/working/) that gets preserved as output when you create a version using \"Save & Run All\" \n",
    "# You can also write temporary files to /kaggle/temp/, but they won't be saved outside of the current session"
   ]
  },
  {
   "cell_type": "markdown",
   "execution_count": null,
   "metadata": {},
   "source": [
    "# Important information of the Data:\n",
    "pclass: A proxy for socio-economic status (SES)\n",
    "1st = Upper\n",
    "2nd = Middle\n",
    "3rd = Lower\n",
    "\n",
    "\n",
    "\n",
    "age: Age is fractional if less than 1. If the age is estimated, is it in the form of xx.5\n",
    "\n",
    "\n",
    "\n",
    "sibsp: The dataset defines family relations in this way...\n",
    "Sibling = brother, sister, stepbrother, stepsister\n",
    "Spouse = husband, wife (mistresses and fiancés were ignored)\n",
    "\n",
    "\n",
    "\n",
    "parch: The dataset defines family relations in this way...\n",
    "Parent = mother, father\n",
    "Child = daughter, son, stepdaughter, stepson\n",
    "Some children travelled only with a nanny, therefore parch=0 for them."
   ]
  },
  {
   "cell_type": "code",
   "execution_count": 2,
   "metadata": {
    "_cell_guid": "79c7e3d0-c299-4dcb-8224-4455121ee9b0",
    "_uuid": "d629ff2d2480ee46fbb7e2d37f6b5fab8052498a"
   },
   "outputs": [
    {
     "data": {
      "text/html": [
       "<div>\n",
       "<style scoped>\n",
       "    .dataframe tbody tr th:only-of-type {\n",
       "        vertical-align: middle;\n",
       "    }\n",
       "\n",
       "    .dataframe tbody tr th {\n",
       "        vertical-align: top;\n",
       "    }\n",
       "\n",
       "    .dataframe thead th {\n",
       "        text-align: right;\n",
       "    }\n",
       "</style>\n",
       "<table border=\"1\" class=\"dataframe\">\n",
       "  <thead>\n",
       "    <tr style=\"text-align: right;\">\n",
       "      <th></th>\n",
       "      <th>PassengerId</th>\n",
       "      <th>Survived</th>\n",
       "      <th>Pclass</th>\n",
       "      <th>Name</th>\n",
       "      <th>Sex</th>\n",
       "      <th>Age</th>\n",
       "      <th>SibSp</th>\n",
       "      <th>Parch</th>\n",
       "      <th>Ticket</th>\n",
       "      <th>Fare</th>\n",
       "      <th>Cabin</th>\n",
       "      <th>Embarked</th>\n",
       "    </tr>\n",
       "  </thead>\n",
       "  <tbody>\n",
       "    <tr>\n",
       "      <th>0</th>\n",
       "      <td>1</td>\n",
       "      <td>0</td>\n",
       "      <td>3</td>\n",
       "      <td>Braund, Mr. Owen Harris</td>\n",
       "      <td>male</td>\n",
       "      <td>22.0</td>\n",
       "      <td>1</td>\n",
       "      <td>0</td>\n",
       "      <td>A/5 21171</td>\n",
       "      <td>7.2500</td>\n",
       "      <td>NaN</td>\n",
       "      <td>S</td>\n",
       "    </tr>\n",
       "    <tr>\n",
       "      <th>1</th>\n",
       "      <td>2</td>\n",
       "      <td>1</td>\n",
       "      <td>1</td>\n",
       "      <td>Cumings, Mrs. John Bradley (Florence Briggs Th...</td>\n",
       "      <td>female</td>\n",
       "      <td>38.0</td>\n",
       "      <td>1</td>\n",
       "      <td>0</td>\n",
       "      <td>PC 17599</td>\n",
       "      <td>71.2833</td>\n",
       "      <td>C85</td>\n",
       "      <td>C</td>\n",
       "    </tr>\n",
       "    <tr>\n",
       "      <th>2</th>\n",
       "      <td>3</td>\n",
       "      <td>1</td>\n",
       "      <td>3</td>\n",
       "      <td>Heikkinen, Miss. Laina</td>\n",
       "      <td>female</td>\n",
       "      <td>26.0</td>\n",
       "      <td>0</td>\n",
       "      <td>0</td>\n",
       "      <td>STON/O2. 3101282</td>\n",
       "      <td>7.9250</td>\n",
       "      <td>NaN</td>\n",
       "      <td>S</td>\n",
       "    </tr>\n",
       "    <tr>\n",
       "      <th>3</th>\n",
       "      <td>4</td>\n",
       "      <td>1</td>\n",
       "      <td>1</td>\n",
       "      <td>Futrelle, Mrs. Jacques Heath (Lily May Peel)</td>\n",
       "      <td>female</td>\n",
       "      <td>35.0</td>\n",
       "      <td>1</td>\n",
       "      <td>0</td>\n",
       "      <td>113803</td>\n",
       "      <td>53.1000</td>\n",
       "      <td>C123</td>\n",
       "      <td>S</td>\n",
       "    </tr>\n",
       "    <tr>\n",
       "      <th>4</th>\n",
       "      <td>5</td>\n",
       "      <td>0</td>\n",
       "      <td>3</td>\n",
       "      <td>Allen, Mr. William Henry</td>\n",
       "      <td>male</td>\n",
       "      <td>35.0</td>\n",
       "      <td>0</td>\n",
       "      <td>0</td>\n",
       "      <td>373450</td>\n",
       "      <td>8.0500</td>\n",
       "      <td>NaN</td>\n",
       "      <td>S</td>\n",
       "    </tr>\n",
       "  </tbody>\n",
       "</table>\n",
       "</div>"
      ],
      "text/plain": [
       "   PassengerId  Survived  Pclass  \\\n",
       "0            1         0       3   \n",
       "1            2         1       1   \n",
       "2            3         1       3   \n",
       "3            4         1       1   \n",
       "4            5         0       3   \n",
       "\n",
       "                                                Name     Sex   Age  SibSp  \\\n",
       "0                            Braund, Mr. Owen Harris    male  22.0      1   \n",
       "1  Cumings, Mrs. John Bradley (Florence Briggs Th...  female  38.0      1   \n",
       "2                             Heikkinen, Miss. Laina  female  26.0      0   \n",
       "3       Futrelle, Mrs. Jacques Heath (Lily May Peel)  female  35.0      1   \n",
       "4                           Allen, Mr. William Henry    male  35.0      0   \n",
       "\n",
       "   Parch            Ticket     Fare Cabin Embarked  \n",
       "0      0         A/5 21171   7.2500   NaN        S  \n",
       "1      0          PC 17599  71.2833   C85        C  \n",
       "2      0  STON/O2. 3101282   7.9250   NaN        S  \n",
       "3      0            113803  53.1000  C123        S  \n",
       "4      0            373450   8.0500   NaN        S  "
      ]
     },
     "execution_count": 2,
     "metadata": {},
     "output_type": "execute_result"
    }
   ],
   "source": [
    "train_data = pd.read_csv(\"/kaggle/input/titanic/train.csv\")\n",
    "train_data.head()"
   ]
  },
  {
   "cell_type": "code",
   "execution_count": 3,
   "metadata": {},
   "outputs": [
    {
     "data": {
      "text/html": [
       "<div>\n",
       "<style scoped>\n",
       "    .dataframe tbody tr th:only-of-type {\n",
       "        vertical-align: middle;\n",
       "    }\n",
       "\n",
       "    .dataframe tbody tr th {\n",
       "        vertical-align: top;\n",
       "    }\n",
       "\n",
       "    .dataframe thead th {\n",
       "        text-align: right;\n",
       "    }\n",
       "</style>\n",
       "<table border=\"1\" class=\"dataframe\">\n",
       "  <thead>\n",
       "    <tr style=\"text-align: right;\">\n",
       "      <th></th>\n",
       "      <th>PassengerId</th>\n",
       "      <th>Pclass</th>\n",
       "      <th>Name</th>\n",
       "      <th>Sex</th>\n",
       "      <th>Age</th>\n",
       "      <th>SibSp</th>\n",
       "      <th>Parch</th>\n",
       "      <th>Ticket</th>\n",
       "      <th>Fare</th>\n",
       "      <th>Cabin</th>\n",
       "      <th>Embarked</th>\n",
       "    </tr>\n",
       "  </thead>\n",
       "  <tbody>\n",
       "    <tr>\n",
       "      <th>0</th>\n",
       "      <td>892</td>\n",
       "      <td>3</td>\n",
       "      <td>Kelly, Mr. James</td>\n",
       "      <td>male</td>\n",
       "      <td>34.5</td>\n",
       "      <td>0</td>\n",
       "      <td>0</td>\n",
       "      <td>330911</td>\n",
       "      <td>7.8292</td>\n",
       "      <td>NaN</td>\n",
       "      <td>Q</td>\n",
       "    </tr>\n",
       "    <tr>\n",
       "      <th>1</th>\n",
       "      <td>893</td>\n",
       "      <td>3</td>\n",
       "      <td>Wilkes, Mrs. James (Ellen Needs)</td>\n",
       "      <td>female</td>\n",
       "      <td>47.0</td>\n",
       "      <td>1</td>\n",
       "      <td>0</td>\n",
       "      <td>363272</td>\n",
       "      <td>7.0000</td>\n",
       "      <td>NaN</td>\n",
       "      <td>S</td>\n",
       "    </tr>\n",
       "    <tr>\n",
       "      <th>2</th>\n",
       "      <td>894</td>\n",
       "      <td>2</td>\n",
       "      <td>Myles, Mr. Thomas Francis</td>\n",
       "      <td>male</td>\n",
       "      <td>62.0</td>\n",
       "      <td>0</td>\n",
       "      <td>0</td>\n",
       "      <td>240276</td>\n",
       "      <td>9.6875</td>\n",
       "      <td>NaN</td>\n",
       "      <td>Q</td>\n",
       "    </tr>\n",
       "    <tr>\n",
       "      <th>3</th>\n",
       "      <td>895</td>\n",
       "      <td>3</td>\n",
       "      <td>Wirz, Mr. Albert</td>\n",
       "      <td>male</td>\n",
       "      <td>27.0</td>\n",
       "      <td>0</td>\n",
       "      <td>0</td>\n",
       "      <td>315154</td>\n",
       "      <td>8.6625</td>\n",
       "      <td>NaN</td>\n",
       "      <td>S</td>\n",
       "    </tr>\n",
       "    <tr>\n",
       "      <th>4</th>\n",
       "      <td>896</td>\n",
       "      <td>3</td>\n",
       "      <td>Hirvonen, Mrs. Alexander (Helga E Lindqvist)</td>\n",
       "      <td>female</td>\n",
       "      <td>22.0</td>\n",
       "      <td>1</td>\n",
       "      <td>1</td>\n",
       "      <td>3101298</td>\n",
       "      <td>12.2875</td>\n",
       "      <td>NaN</td>\n",
       "      <td>S</td>\n",
       "    </tr>\n",
       "  </tbody>\n",
       "</table>\n",
       "</div>"
      ],
      "text/plain": [
       "   PassengerId  Pclass                                          Name     Sex  \\\n",
       "0          892       3                              Kelly, Mr. James    male   \n",
       "1          893       3              Wilkes, Mrs. James (Ellen Needs)  female   \n",
       "2          894       2                     Myles, Mr. Thomas Francis    male   \n",
       "3          895       3                              Wirz, Mr. Albert    male   \n",
       "4          896       3  Hirvonen, Mrs. Alexander (Helga E Lindqvist)  female   \n",
       "\n",
       "    Age  SibSp  Parch   Ticket     Fare Cabin Embarked  \n",
       "0  34.5      0      0   330911   7.8292   NaN        Q  \n",
       "1  47.0      1      0   363272   7.0000   NaN        S  \n",
       "2  62.0      0      0   240276   9.6875   NaN        Q  \n",
       "3  27.0      0      0   315154   8.6625   NaN        S  \n",
       "4  22.0      1      1  3101298  12.2875   NaN        S  "
      ]
     },
     "execution_count": 3,
     "metadata": {},
     "output_type": "execute_result"
    }
   ],
   "source": [
    "test_data=pd.read_csv(\"/kaggle/input/titanic/test.csv\")\n",
    "test_data.head()"
   ]
  },
  {
   "cell_type": "code",
   "execution_count": 4,
   "metadata": {},
   "outputs": [
    {
     "name": "stdout",
     "output_type": "stream",
     "text": [
      "0.7420382165605095 proportion of women Survived on titanic. \n"
     ]
    }
   ],
   "source": [
    "women=train_data.loc[train_data.Sex=='female']['Survived']\n",
    "rate_women=sum(women)/len(women)\n",
    "print('{} proportion of women Survived on titanic. '.format(rate_women))"
   ]
  },
  {
   "cell_type": "code",
   "execution_count": 5,
   "metadata": {},
   "outputs": [
    {
     "name": "stdout",
     "output_type": "stream",
     "text": [
      "0.3471337579617834 proportion of men Survived on titanic. \n"
     ]
    }
   ],
   "source": [
    "men=train_data.loc[train_data.Sex=='male']['Survived']\n",
    "rate_men=sum(men)/len(women)\n",
    "print('{} proportion of men Survived on titanic. '.format(rate_men))"
   ]
  },
  {
   "cell_type": "code",
   "execution_count": 6,
   "metadata": {},
   "outputs": [
    {
     "data": {
      "text/plain": [
       "<matplotlib.axes._subplots.AxesSubplot at 0x7f592ed21a90>"
      ]
     },
     "execution_count": 6,
     "metadata": {},
     "output_type": "execute_result"
    },
    {
     "data": {
      "image/png": "[encoded data removed]",
      "text/plain": [
       "<Figure size 360x360 with 1 Axes>"
      ]
     },
     "metadata": {},
     "output_type": "display_data"
    }
   ],
   "source": [
    "plt.subplots(figsize=(5,5))\n",
    "a=train_data.groupby([\"Survived\"])['Sex'].count()\n",
    "colors = ['pink', 'yellow']\n",
    "\n",
    "a.plot.pie(colors=colors,autopct='%1.1f%%',shadow=True, startangle=175)"
   ]
  },
  {
   "cell_type": "code",
   "execution_count": 7,
   "metadata": {},
   "outputs": [
    {
     "data": {
      "text/plain": [
       "<matplotlib.axes._subplots.AxesSubplot at 0x7f592ea268d0>"
      ]
     },
     "execution_count": 7,
     "metadata": {},
     "output_type": "execute_result"
    },
    {
     "data": {
      "image/png": "[encoded data removed]",
      "text/plain": [
       "<Figure size 360x360 with 1 Axes>"
      ]
     },
     "metadata": {},
     "output_type": "display_data"
    }
   ],
   "source": [
    "plt.subplots(figsize=(5,5))\n",
    "a=train_data.groupby([\"Sex\"]).Sex.count()\n",
    "colors = ['red', 'blue']\n",
    "\n",
    "a.plot.pie(colors=colors,autopct='%1.1f%%',shadow=True, startangle=175)"
   ]
  },
  {
   "cell_type": "markdown",
   "execution_count": null,
   "metadata": {},
   "source": [
    "# As we can see from above the Survival rate of Women on the Titanic was higher than that of men.\n",
    "\n",
    "# The below Cross Tablulation Quantifies my observation pertaining to the Gender bias in the Survival on the train_data ."
   ]
  },
  {
   "cell_type": "code",
   "execution_count": 8,
   "metadata": {},
   "outputs": [
    {
     "data": {
      "text/html": [
       "<style  type=\"text/css\" >\n",
       "    #T_a1b2d4c2_c850_11ea_9980_0242ac130202row0_col0 {\n",
       "            background-color:  #ffff66;\n",
       "            color:  #000000;\n",
       "        }    #T_a1b2d4c2_c850_11ea_9980_0242ac130202row0_col1 {\n",
       "            background-color:  #77bb66;\n",
       "            color:  #000000;\n",
       "        }    #T_a1b2d4c2_c850_11ea_9980_0242ac130202row0_col2 {\n",
       "            background-color:  #ffff66;\n",
       "            color:  #000000;\n",
       "        }    #T_a1b2d4c2_c850_11ea_9980_0242ac130202row1_col0 {\n",
       "            background-color:  #2c9666;\n",
       "            color:  #000000;\n",
       "        }    #T_a1b2d4c2_c850_11ea_9980_0242ac130202row1_col1 {\n",
       "            background-color:  #ffff66;\n",
       "            color:  #000000;\n",
       "        }    #T_a1b2d4c2_c850_11ea_9980_0242ac130202row1_col2 {\n",
       "            background-color:  #8bc566;\n",
       "            color:  #000000;\n",
       "        }    #T_a1b2d4c2_c850_11ea_9980_0242ac130202row2_col0 {\n",
       "            background-color:  #008066;\n",
       "            color:  #f1f1f1;\n",
       "        }    #T_a1b2d4c2_c850_11ea_9980_0242ac130202row2_col1 {\n",
       "            background-color:  #008066;\n",
       "            color:  #f1f1f1;\n",
       "        }    #T_a1b2d4c2_c850_11ea_9980_0242ac130202row2_col2 {\n",
       "            background-color:  #008066;\n",
       "            color:  #f1f1f1;\n",
       "        }</style><table id=\"T_a1b2d4c2_c850_11ea_9980_0242ac130202\" ><thead>    <tr>        <th class=\"index_name level0\" >Survived</th>        <th class=\"col_heading level0 col0\" >0</th>        <th class=\"col_heading level0 col1\" >1</th>        <th class=\"col_heading level0 col2\" >All</th>    </tr>    <tr>        <th class=\"index_name level0\" >Sex</th>        <th class=\"blank\" ></th>        <th class=\"blank\" ></th>        <th class=\"blank\" ></th>    </tr></thead><tbody>\n",
       "                <tr>\n",
       "                        <th id=\"T_a1b2d4c2_c850_11ea_9980_0242ac130202level0_row0\" class=\"row_heading level0 row0\" >female</th>\n",
       "                        <td id=\"T_a1b2d4c2_c850_11ea_9980_0242ac130202row0_col0\" class=\"data row0 col0\" >81</td>\n",
       "                        <td id=\"T_a1b2d4c2_c850_11ea_9980_0242ac130202row0_col1\" class=\"data row0 col1\" >233</td>\n",
       "                        <td id=\"T_a1b2d4c2_c850_11ea_9980_0242ac130202row0_col2\" class=\"data row0 col2\" >314</td>\n",
       "            </tr>\n",
       "            <tr>\n",
       "                        <th id=\"T_a1b2d4c2_c850_11ea_9980_0242ac130202level0_row1\" class=\"row_heading level0 row1\" >male</th>\n",
       "                        <td id=\"T_a1b2d4c2_c850_11ea_9980_0242ac130202row1_col0\" class=\"data row1 col0\" >468</td>\n",
       "                        <td id=\"T_a1b2d4c2_c850_11ea_9980_0242ac130202row1_col1\" class=\"data row1 col1\" >109</td>\n",
       "                        <td id=\"T_a1b2d4c2_c850_11ea_9980_0242ac130202row1_col2\" class=\"data row1 col2\" >577</td>\n",
       "            </tr>\n",
       "            <tr>\n",
       "                        <th id=\"T_a1b2d4c2_c850_11ea_9980_0242ac130202level0_row2\" class=\"row_heading level0 row2\" >All</th>\n",
       "                        <td id=\"T_a1b2d4c2_c850_11ea_9980_0242ac130202row2_col0\" class=\"data row2 col0\" >549</td>\n",
       "                        <td id=\"T_a1b2d4c2_c850_11ea_9980_0242ac130202row2_col1\" class=\"data row2 col1\" >342</td>\n",
       "                        <td id=\"T_a1b2d4c2_c850_11ea_9980_0242ac130202row2_col2\" class=\"data row2 col2\" >891</td>\n",
       "            </tr>\n",
       "    </tbody></table>"
      ],
      "text/plain": [
       "<pandas.io.formats.style.Styler at 0x7f5934e7b590>"
      ]
     },
     "execution_count": 8,
     "metadata": {},
     "output_type": "execute_result"
    }
   ],
   "source": [
    "pd.crosstab(train_data.Sex,train_data.Survived,margins=True).style.background_gradient(cmap='summer_r')\n"
   ]
  },
  {
   "cell_type": "code",
   "execution_count": 9,
   "metadata": {},
   "outputs": [
    {
     "data": {
      "text/plain": [
       "(891, 12)"
      ]
     },
     "execution_count": 9,
     "metadata": {},
     "output_type": "execute_result"
    }
   ],
   "source": [
    "train_data.shape"
   ]
  },
  {
   "cell_type": "markdown",
   "execution_count": null,
   "metadata": {},
   "source": [
    "    Let us see the number of unique values in Each column and the nature of the columns(categorical or continuous)."
   ]
  },
  {
   "cell_type": "code",
   "execution_count": 10,
   "metadata": {},
   "outputs": [
    {
     "name": "stdout",
     "output_type": "stream",
     "text": [
      "PassengerId has : 891 Unique Values\n",
      "Survived has : 2 Unique Values\n",
      "Pclass has : 3 Unique Values\n",
      "Name has : 891 Unique Values\n",
      "Sex has : 2 Unique Values\n",
      "Age has : 88 Unique Values\n",
      "SibSp has : 7 Unique Values\n",
      "Parch has : 7 Unique Values\n",
      "Ticket has : 681 Unique Values\n",
      "Fare has : 248 Unique Values\n",
      "Cabin has : 147 Unique Values\n",
      "Embarked has : 3 Unique Values\n"
     ]
    }
   ],
   "source": [
    "columns=train_data.columns\n",
    "for i in columns:\n",
    "    print(i,'has :',train_data[i].nunique(),'Unique Values')"
   ]
  },
  {
   "cell_type": "code",
   "execution_count": 11,
   "metadata": {},
   "outputs": [
    {
     "data": {
      "text/plain": [
       "PassengerId      0\n",
       "Survived         0\n",
       "Pclass           0\n",
       "Name             0\n",
       "Sex              0\n",
       "Age            177\n",
       "SibSp            0\n",
       "Parch            0\n",
       "Ticket           0\n",
       "Fare             0\n",
       "Cabin          687\n",
       "Embarked         2\n",
       "dtype: int64"
      ]
     },
     "execution_count": 11,
     "metadata": {},
     "output_type": "execute_result"
    }
   ],
   "source": [
    "train_data.isnull().sum()"
   ]
  },
  {
   "cell_type": "markdown",
   "execution_count": null,
   "metadata": {},
   "source": [
    "Age has 177 null values,Cabin-687 and Embarked-2."
   ]
  },
  {
   "cell_type": "code",
   "execution_count": 12,
   "metadata": {},
   "outputs": [
    {
     "name": "stdout",
     "output_type": "stream",
     "text": [
      "<class 'pandas.core.frame.DataFrame'>\n",
      "RangeIndex: 891 entries, 0 to 890\n",
      "Data columns (total 12 columns):\n",
      " #   Column       Non-Null Count  Dtype  \n",
      "---  ------       --------------  -----  \n",
      " 0   PassengerId  891 non-null    int64  \n",
      " 1   Survived     891 non-null    int64  \n",
      " 2   Pclass       891 non-null    int64  \n",
      " 3   Name         891 non-null    object \n",
      " 4   Sex          891 non-null    object \n",
      " 5   Age          714 non-null    float64\n",
      " 6   SibSp        891 non-null    int64  \n",
      " 7   Parch        891 non-null    int64  \n",
      " 8   Ticket       891 non-null    object \n",
      " 9   Fare         891 non-null    float64\n",
      " 10  Cabin        204 non-null    object \n",
      " 11  Embarked     889 non-null    object \n",
      "dtypes: float64(2), int64(5), object(5)\n",
      "memory usage: 83.7+ KB\n"
     ]
    }
   ],
   "source": [
    "train_data.info()"
   ]
  },
  {
   "cell_type": "markdown",
   "execution_count": null,
   "metadata": {},
   "source": [
    "Continuous Features:Sibsp,Parch,Fare,Survived,Age.\n",
    "\n",
    "\n",
    "\n",
    "Categorical Features:Sex,Embarked,Cabin,Ticket,Name.\n",
    "\n",
    "\n",
    "\n",
    "Ordinal:Pclass.\n",
    "\n",
    "\n",
    "According to my Knowledge the Target variable:Survived should be a categorical variable too,but since it is already encoded,they have assumed it to be as a continuous and have given it an int datatype.This makes no effect on our analysis and hence we leave it untouched.\n",
    "\n"
   ]
  },
  {
   "cell_type": "markdown",
   "execution_count": null,
   "metadata": {},
   "source": [
    "# How many Survived?"
   ]
  },
  {
   "cell_type": "code",
   "execution_count": 13,
   "metadata": {},
   "outputs": [
    {
     "data": {
      "image/png": "[encoded data removed]",
      "text/plain": [
       "<Figure size 576x360 with 1 Axes>"
      ]
     },
     "metadata": {
      "needs_background": "light"
     },
     "output_type": "display_data"
    },
    {
     "name": "stdout",
     "output_type": "stream",
     "text": [
      "Survived    891\n",
      "dtype: int64\n"
     ]
    },
    {
     "data": {
      "text/plain": [
       "0    549\n",
       "1    342\n",
       "Name: Survived, dtype: int64"
      ]
     },
     "execution_count": 13,
     "metadata": {},
     "output_type": "execute_result"
    }
   ],
   "source": [
    "plt.figure(figsize=(8,5))\n",
    "sns.countplot('Survived',data=train_data,palette=\"rainbow\")\n",
    "plt.title('Survived')\n",
    "plt.show()\n",
    "print(train_data[['Survived']].count())\n",
    "train_data['Survived'].value_counts()"
   ]
  },
  {
   "cell_type": "code",
   "execution_count": 14,
   "metadata": {},
   "outputs": [
    {
     "name": "stdout",
     "output_type": "stream",
     "text": [
      "The % of people reported dead  on the Titanic: 61.61616161616161\n",
      "The % of people who survived on the Titanic: 38.38383838383838\n"
     ]
    }
   ],
   "source": [
    "print('The % of people reported dead  on the Titanic:',(train_data['Survived'].value_counts()[0]/np.sum(train_data['Survived'].value_counts()))*100)\n",
    "print('The % of people who survived on the Titanic:',(train_data['Survived'].value_counts()[1]/np.sum(train_data['Survived'].value_counts()))*100)"
   ]
  },
  {
   "cell_type": "markdown",
   "execution_count": null,
   "metadata": {},
   "source": [
    "From the above visualization,it can easily be said that not a lot of people survived the disaster.\n",
    "\n",
    "\n",
    "Approximately 38.4% people survived in the training set of the data.\n",
    "\n",
    "\n",
    "\n",
    "Which is 342 of the total 891 passengers have survived ."
   ]
  },
  {
   "cell_type": "markdown",
   "execution_count": null,
   "metadata": {},
   "source": [
    "# Going by the order, let us now evaluate the relationship of the target with the Passenger Class:"
   ]
  },
  {
   "cell_type": "code",
   "execution_count": 15,
   "metadata": {},
   "outputs": [
    {
     "data": {
      "image/png": "[encoded data removed]",
      "text/plain": [
       "<Figure size 1296x576 with 2 Axes>"
      ]
     },
     "metadata": {},
     "output_type": "display_data"
    },
    {
     "name": "stdout",
     "output_type": "stream",
     "text": [
      "Pclass    891\n",
      "dtype: int64\n",
      "3    491\n",
      "1    216\n",
      "2    184\n",
      "Name: Pclass, dtype: int64\n"
     ]
    }
   ],
   "source": [
    "sns.set(style='darkgrid')\n",
    "fig,axes=plt.subplots(1,2,figsize=(18,8))\n",
    "train_data['Pclass'].value_counts().plot.bar(color=['#CD7F32','#FFDF00','#D3D3D3'],ax=axes[0])\n",
    "axes[0].set_title('Number Of Passengers By Pclass')\n",
    "axes[0].set_ylabel('Count')\n",
    "sns.countplot('Pclass',hue='Survived',data=train_data,ax=axes[1])\n",
    "axes[1].set_title('Pclass:Survived vs Dead')\n",
    "plt.show()\n",
    "print(train_data[['Pclass']].count())\n",
    "print(train_data['Pclass'].value_counts())\n"
   ]
  },
  {
   "cell_type": "markdown",
   "execution_count": null,
   "metadata": {},
   "source": [
    "* Here,the PClass is divided into 3:\n",
    "1.First Class\n",
    "2.Second Class\n",
    "3.Third Class\n",
    "\n",
    "From above visualization,we can say that,most passengers opted for Pclass 3 or the lower passenger class.(491)\n",
    "After the Lower class,most people opted for the 1st Class.(216)\n",
    "The least number of people opted for the middle class .(184)\n",
    "\n",
    "* Now about the survival:\n",
    "1. Most people from the First class or PClass 1 survived.Of 216,136 survived and 80 were reported dead.\n",
    "2. In the Middle class or PClass 2 the number of people who were reported dead surpassed those who survived.out of 184 people, around 87 survived but 97 were reported Dead.\n",
    "3. The 3rd or the lower class  has the most number of people's deaths reported, out of 491 who boarded the ship as lower class passengers, only 119 survived and a whopping 372 people were reported dead.\n",
    "\n",
    "\n",
    "\n",
    "\n",
    "We can clearly say that the Lower Class people are most affected."
   ]
  },
  {
   "cell_type": "code",
   "execution_count": 16,
   "metadata": {},
   "outputs": [
    {
     "data": {
      "text/html": [
       "<style  type=\"text/css\" >\n",
       "    #T_a24012e2_c850_11ea_9980_0242ac130202row0_col0 {\n",
       "            background-color:  #ffff66;\n",
       "            color:  #000000;\n",
       "        }    #T_a24012e2_c850_11ea_9980_0242ac130202row0_col1 {\n",
       "            background-color:  #ffff66;\n",
       "            color:  #000000;\n",
       "        }    #T_a24012e2_c850_11ea_9980_0242ac130202row0_col2 {\n",
       "            background-color:  #f1f866;\n",
       "            color:  #000000;\n",
       "        }    #T_a24012e2_c850_11ea_9980_0242ac130202row0_col3 {\n",
       "            background-color:  #ffff66;\n",
       "            color:  #000000;\n",
       "        }    #T_a24012e2_c850_11ea_9980_0242ac130202row1_col0 {\n",
       "            background-color:  #96cb66;\n",
       "            color:  #000000;\n",
       "        }    #T_a24012e2_c850_11ea_9980_0242ac130202row1_col1 {\n",
       "            background-color:  #a3d166;\n",
       "            color:  #000000;\n",
       "        }    #T_a24012e2_c850_11ea_9980_0242ac130202row1_col2 {\n",
       "            background-color:  #f1f866;\n",
       "            color:  #000000;\n",
       "        }    #T_a24012e2_c850_11ea_9980_0242ac130202row1_col3 {\n",
       "            background-color:  #cfe766;\n",
       "            color:  #000000;\n",
       "        }    #T_a24012e2_c850_11ea_9980_0242ac130202row2_col0 {\n",
       "            background-color:  #a7d366;\n",
       "            color:  #000000;\n",
       "        }    #T_a24012e2_c850_11ea_9980_0242ac130202row2_col1 {\n",
       "            background-color:  #85c266;\n",
       "            color:  #000000;\n",
       "        }    #T_a24012e2_c850_11ea_9980_0242ac130202row2_col2 {\n",
       "            background-color:  #6eb666;\n",
       "            color:  #000000;\n",
       "        }    #T_a24012e2_c850_11ea_9980_0242ac130202row2_col3 {\n",
       "            background-color:  #85c266;\n",
       "            color:  #000000;\n",
       "        }    #T_a24012e2_c850_11ea_9980_0242ac130202row3_col0 {\n",
       "            background-color:  #cde666;\n",
       "            color:  #000000;\n",
       "        }    #T_a24012e2_c850_11ea_9980_0242ac130202row3_col1 {\n",
       "            background-color:  #f0f866;\n",
       "            color:  #000000;\n",
       "        }    #T_a24012e2_c850_11ea_9980_0242ac130202row3_col2 {\n",
       "            background-color:  #ffff66;\n",
       "            color:  #000000;\n",
       "        }    #T_a24012e2_c850_11ea_9980_0242ac130202row3_col3 {\n",
       "            background-color:  #f7fb66;\n",
       "            color:  #000000;\n",
       "        }    #T_a24012e2_c850_11ea_9980_0242ac130202row4_col0 {\n",
       "            background-color:  #008066;\n",
       "            color:  #f1f1f1;\n",
       "        }    #T_a24012e2_c850_11ea_9980_0242ac130202row4_col1 {\n",
       "            background-color:  #008066;\n",
       "            color:  #f1f1f1;\n",
       "        }    #T_a24012e2_c850_11ea_9980_0242ac130202row4_col2 {\n",
       "            background-color:  #008066;\n",
       "            color:  #f1f1f1;\n",
       "        }    #T_a24012e2_c850_11ea_9980_0242ac130202row4_col3 {\n",
       "            background-color:  #008066;\n",
       "            color:  #f1f1f1;\n",
       "        }</style><table id=\"T_a24012e2_c850_11ea_9980_0242ac130202\" ><thead>    <tr>        <th class=\"blank\" ></th>        <th class=\"index_name level0\" >Pclass</th>        <th class=\"col_heading level0 col0\" >1</th>        <th class=\"col_heading level0 col1\" >2</th>        <th class=\"col_heading level0 col2\" >3</th>        <th class=\"col_heading level0 col3\" >All</th>    </tr>    <tr>        <th class=\"index_name level0\" >Sex</th>        <th class=\"index_name level1\" >Survived</th>        <th class=\"blank\" ></th>        <th class=\"blank\" ></th>        <th class=\"blank\" ></th>        <th class=\"blank\" ></th>    </tr></thead><tbody>\n",
       "                <tr>\n",
       "                        <th id=\"T_a24012e2_c850_11ea_9980_0242ac130202level0_row0\" class=\"row_heading level0 row0\" rowspan=2>female</th>\n",
       "                        <th id=\"T_a24012e2_c850_11ea_9980_0242ac130202level1_row0\" class=\"row_heading level1 row0\" >0</th>\n",
       "                        <td id=\"T_a24012e2_c850_11ea_9980_0242ac130202row0_col0\" class=\"data row0 col0\" >3</td>\n",
       "                        <td id=\"T_a24012e2_c850_11ea_9980_0242ac130202row0_col1\" class=\"data row0 col1\" >6</td>\n",
       "                        <td id=\"T_a24012e2_c850_11ea_9980_0242ac130202row0_col2\" class=\"data row0 col2\" >72</td>\n",
       "                        <td id=\"T_a24012e2_c850_11ea_9980_0242ac130202row0_col3\" class=\"data row0 col3\" >81</td>\n",
       "            </tr>\n",
       "            <tr>\n",
       "                                <th id=\"T_a24012e2_c850_11ea_9980_0242ac130202level1_row1\" class=\"row_heading level1 row1\" >1</th>\n",
       "                        <td id=\"T_a24012e2_c850_11ea_9980_0242ac130202row1_col0\" class=\"data row1 col0\" >91</td>\n",
       "                        <td id=\"T_a24012e2_c850_11ea_9980_0242ac130202row1_col1\" class=\"data row1 col1\" >70</td>\n",
       "                        <td id=\"T_a24012e2_c850_11ea_9980_0242ac130202row1_col2\" class=\"data row1 col2\" >72</td>\n",
       "                        <td id=\"T_a24012e2_c850_11ea_9980_0242ac130202row1_col3\" class=\"data row1 col3\" >233</td>\n",
       "            </tr>\n",
       "            <tr>\n",
       "                        <th id=\"T_a24012e2_c850_11ea_9980_0242ac130202level0_row2\" class=\"row_heading level0 row2\" rowspan=2>male</th>\n",
       "                        <th id=\"T_a24012e2_c850_11ea_9980_0242ac130202level1_row2\" class=\"row_heading level1 row2\" >0</th>\n",
       "                        <td id=\"T_a24012e2_c850_11ea_9980_0242ac130202row2_col0\" class=\"data row2 col0\" >77</td>\n",
       "                        <td id=\"T_a24012e2_c850_11ea_9980_0242ac130202row2_col1\" class=\"data row2 col1\" >91</td>\n",
       "                        <td id=\"T_a24012e2_c850_11ea_9980_0242ac130202row2_col2\" class=\"data row2 col2\" >300</td>\n",
       "                        <td id=\"T_a24012e2_c850_11ea_9980_0242ac130202row2_col3\" class=\"data row2 col3\" >468</td>\n",
       "            </tr>\n",
       "            <tr>\n",
       "                                <th id=\"T_a24012e2_c850_11ea_9980_0242ac130202level1_row3\" class=\"row_heading level1 row3\" >1</th>\n",
       "                        <td id=\"T_a24012e2_c850_11ea_9980_0242ac130202row3_col0\" class=\"data row3 col0\" >45</td>\n",
       "                        <td id=\"T_a24012e2_c850_11ea_9980_0242ac130202row3_col1\" class=\"data row3 col1\" >17</td>\n",
       "                        <td id=\"T_a24012e2_c850_11ea_9980_0242ac130202row3_col2\" class=\"data row3 col2\" >47</td>\n",
       "                        <td id=\"T_a24012e2_c850_11ea_9980_0242ac130202row3_col3\" class=\"data row3 col3\" >109</td>\n",
       "            </tr>\n",
       "            <tr>\n",
       "                        <th id=\"T_a24012e2_c850_11ea_9980_0242ac130202level0_row4\" class=\"row_heading level0 row4\" >All</th>\n",
       "                        <th id=\"T_a24012e2_c850_11ea_9980_0242ac130202level1_row4\" class=\"row_heading level1 row4\" ></th>\n",
       "                        <td id=\"T_a24012e2_c850_11ea_9980_0242ac130202row4_col0\" class=\"data row4 col0\" >216</td>\n",
       "                        <td id=\"T_a24012e2_c850_11ea_9980_0242ac130202row4_col1\" class=\"data row4 col1\" >184</td>\n",
       "                        <td id=\"T_a24012e2_c850_11ea_9980_0242ac130202row4_col2\" class=\"data row4 col2\" >491</td>\n",
       "                        <td id=\"T_a24012e2_c850_11ea_9980_0242ac130202row4_col3\" class=\"data row4 col3\" >891</td>\n",
       "            </tr>\n",
       "    </tbody></table>"
      ],
      "text/plain": [
       "<pandas.io.formats.style.Styler at 0x7f592e72e450>"
      ]
     },
     "execution_count": 16,
     "metadata": {},
     "output_type": "execute_result"
    },
    {
     "data": {
      "image/png": "[encoded data removed]",
      "text/plain": [
       "<Figure size 720x504 with 1 Axes>"
      ]
     },
     "metadata": {},
     "output_type": "display_data"
    }
   ],
   "source": [
    "plt.figure(figsize=(10,7))\n",
    "sns.countplot(train_data.Pclass,hue=train_data.Sex,palette=\"plasma_r\")\n",
    "pd.crosstab([train_data.Sex,train_data.Survived],train_data.Pclass,margins=True).style.background_gradient(cmap='summer_r')"
   ]
  },
  {
   "cell_type": "markdown",
   "execution_count": null,
   "metadata": {},
   "source": [
    "The number of Males on the ship overall was more compared to the number of women on the ship.The bifurcation is as follows:\n",
    "\n",
    "PClass1:94 females,122 males.\n",
    "\n",
    "\n",
    "Pclass2:76 females,108 males.\n",
    "\n",
    "\n",
    "PClass3:144 females,347 males.\n",
    "\n",
    "\n",
    "The passenger class 3 had the most number of men and women on the Titanic train data.\n",
    "\n",
    "\n",
    "\n",
    "From the Survival perspective in terms of Gender:\n",
    "* Mortality of women in the first class was extremely low.\n",
    "* Mortality rate of women in the Third class was the highest amongst the Passenger classes,Survived number of females was equal to the number of women who were reported dead in third class.\n",
    "\n",
    "* Mortality rate of men was much more than that of women overall.\n",
    "* As  above we can see that the Third Passenger Class had the highest number of male deaths.\n",
    "* The relative number of male survival was more in Passenger Class 1 and least in Passenger Class 3.\n",
    "\n",
    "\n",
    "\n",
    "It is evident that money can take you places. Sad but true.\n",
    "\n",
    "\n"
   ]
  },
  {
   "cell_type": "markdown",
   "execution_count": null,
   "metadata": {},
   "source": [
    "From the above data we can tell that women were Prioritised in terms of rescue,We also know that **Sex** and **Pclass** are two important features for analysis."
   ]
  },
  {
   "cell_type": "markdown",
   "execution_count": null,
   "metadata": {},
   "source": [
    "# Let us analyse age now:"
   ]
  },
  {
   "cell_type": "code",
   "execution_count": 17,
   "metadata": {},
   "outputs": [
    {
     "data": {
      "image/png": "[encoded data removed]",
      "text/plain": [
       "<Figure size 1296x576 with 2 Axes>"
      ]
     },
     "metadata": {},
     "output_type": "display_data"
    }
   ],
   "source": [
    "sns.set(style='whitegrid')\n",
    "f,ax=plt.subplots(1,2,figsize=(18,8))\n",
    "sns.violinplot(\"Pclass\",\"Age\", hue=\"Survived\", data=train_data,palette=\"OrRd_r\",ax=ax[0])\n",
    "ax[0].set_title('Pclass and Age vs Survived')\n",
    "ax[0].set_yticks(range(0,110,10))\n",
    "sns.violinplot(\"Sex\",\"Age\", hue=\"Survived\", data=train_data,ax=ax[1])\n",
    "ax[1].set_title('Sex and Age vs Survived')\n",
    "ax[1].set_yticks(range(0,110,10))\n",
    "plt.show()\n"
   ]
  },
  {
   "cell_type": "markdown",
   "execution_count": null,
   "metadata": {},
   "source": [
    "* Children less than 10 years of age were saved despite the Passenger Class they belonged to.\n",
    "* As the age of men increases the Survival Rate decreased.\n",
    "* More passengers Survived in the Age range 20-50"
   ]
  },
  {
   "cell_type": "code",
   "execution_count": 18,
   "metadata": {},
   "outputs": [
    {
     "data": {
      "text/plain": [
       "29.69911764705882"
      ]
     },
     "execution_count": 18,
     "metadata": {},
     "output_type": "execute_result"
    }
   ],
   "source": [
    "train_data['Age'].mean()"
   ]
  },
  {
   "cell_type": "markdown",
   "execution_count": null,
   "metadata": {},
   "source": [
    "our age data has 177 null values, we could replace them with mean but if we do so,we will encounted a problem of insignificant predictions as mean age of the data is 30 years but the ship comprises of people of all age groups.\n",
    "\n",
    "\n",
    "We cannot just assign them with 30 years.Hence we shall see different prefixes in name and decide which age group person is having what as prefix and when we decide that we can easily impute the null values.\n",
    "\n",
    "First we will take all the prefixes and get the mean ages of each prefixes,based on the mean ages of all the prefixes, we impute corresponding null values."
   ]
  },
  {
   "cell_type": "code",
   "execution_count": 19,
   "metadata": {},
   "outputs": [],
   "source": [
    "train_data['Prefix']=0\n",
    "for i in train_data:\n",
    "    train_data['Prefix']=train_data.Name.str.extract('([A-Za-z]+)\\.')"
   ]
  },
  {
   "cell_type": "code",
   "execution_count": 20,
   "metadata": {},
   "outputs": [
    {
     "data": {
      "text/plain": [
       "array(['Mr', 'Mrs', 'Miss', 'Master', 'Don', 'Rev', 'Dr', 'Mme', 'Ms',\n",
       "       'Major', 'Lady', 'Sir', 'Mlle', 'Col', 'Capt', 'Countess',\n",
       "       'Jonkheer'], dtype=object)"
      ]
     },
     "execution_count": 20,
     "metadata": {},
     "output_type": "execute_result"
    }
   ],
   "source": [
    "train_data['Prefix'].unique()"
   ]
  },
  {
   "cell_type": "markdown",
   "execution_count": null,
   "metadata": {},
   "source": [
    "there are some prefixes that are misplaced: like Mlle or Mme that stand for Miss. I will replace them with Miss and the relevant for other values"
   ]
  },
  {
   "cell_type": "code",
   "execution_count": 21,
   "metadata": {},
   "outputs": [],
   "source": [
    "train_data['Prefix'].replace(['Mlle','Mme','Ms','Dr','Major','Lady','Countess','Jonkheer','Col','Rev','Capt','Sir','Don'],['Miss','Miss','Miss','Mr','Mr','Mrs','Mrs','Other','Other','Other','Mr','Mr','Mr'],inplace=True)"
   ]
  },
  {
   "cell_type": "code",
   "execution_count": 22,
   "metadata": {},
   "outputs": [
    {
     "data": {
      "text/plain": [
       "Prefix\n",
       "Master     4.574167\n",
       "Miss      21.860000\n",
       "Mr        32.739609\n",
       "Mrs       35.981818\n",
       "Other     45.888889\n",
       "Name: Age, dtype: float64"
      ]
     },
     "execution_count": 22,
     "metadata": {},
     "output_type": "execute_result"
    }
   ],
   "source": [
    "train_data.groupby(['Prefix'])['Age'].mean()"
   ]
  },
  {
   "cell_type": "markdown",
   "execution_count": null,
   "metadata": {},
   "source": [
    "Now that we know the mean values of each prefix,lets impute now."
   ]
  },
  {
   "cell_type": "code",
   "execution_count": 23,
   "metadata": {},
   "outputs": [],
   "source": [
    "train_data.loc[(train_data.Age.isnull())&(train_data.Prefix=='Mr'),'Age']=33\n",
    "train_data.loc[(train_data.Age.isnull())&(train_data.Prefix=='Mrs'),'Age']=36\n",
    "train_data.loc[(train_data.Age.isnull())&(train_data.Prefix=='Master'),'Age']=5\n",
    "train_data.loc[(train_data.Age.isnull())&(train_data.Prefix=='Miss'),'Age']=22\n",
    "train_data.loc[(train_data.Age.isnull())&(train_data.Prefix=='Other'),'Age']=46"
   ]
  },
  {
   "cell_type": "code",
   "execution_count": 24,
   "metadata": {},
   "outputs": [
    {
     "data": {
      "text/plain": [
       "False"
      ]
     },
     "execution_count": 24,
     "metadata": {},
     "output_type": "execute_result"
    }
   ],
   "source": [
    "train_data['Age'].isnull().any()"
   ]
  },
  {
   "cell_type": "code",
   "execution_count": 25,
   "metadata": {},
   "outputs": [
    {
     "data": {
      "image/png": "[encoded data removed]",
      "text/plain": [
       "<Figure size 1080x576 with 2 Axes>"
      ]
     },
     "metadata": {},
     "output_type": "display_data"
    }
   ],
   "source": [
    "sns.set(style=\"darkgrid\")\n",
    "fig,ax=plt.subplots(1,2,figsize=(15,8))\n",
    "train_data[train_data['Survived']==0].Age.plot.hist(ax=ax[0],bins=20,edgecolor='black',color='red')\n",
    "ax[0].set_title('DEATHS')\n",
    "train_data[train_data['Survived']==1].Age.plot.hist(ax=ax[1],bins=20,edgecolor='black',color='green')\n",
    "ax[1].set_title('SURVIVALS')\n",
    "plt.show()"
   ]
  },
  {
   "cell_type": "markdown",
   "execution_count": null,
   "metadata": {},
   "source": [
    "Kids and Elder people and women were saved and Survived more compared to other sexes and age groups.\n"
   ]
  },
  {
   "cell_type": "markdown",
   "execution_count": null,
   "metadata": {},
   "source": [
    "# Embarked Feature:"
   ]
  },
  {
   "cell_type": "code",
   "execution_count": 26,
   "metadata": {},
   "outputs": [
    {
     "data": {
      "text/plain": [
       "<matplotlib.axes._subplots.AxesSubplot at 0x7f592e46bed0>"
      ]
     },
     "execution_count": 26,
     "metadata": {},
     "output_type": "execute_result"
    },
    {
     "data": {
      "image/png": "[encoded data removed]",
      "text/plain": [
       "<Figure size 864x360 with 1 Axes>"
      ]
     },
     "metadata": {},
     "output_type": "display_data"
    }
   ],
   "source": [
    "plt.figure(figsize=(12,5))\n",
    "sns.set(style=\"darkgrid\")\n",
    "sns.countplot(train_data.Embarked,hue=train_data.Survived,palette='gist_heat_r')\n"
   ]
  },
  {
   "cell_type": "code",
   "execution_count": 27,
   "metadata": {},
   "outputs": [
    {
     "data": {
      "text/plain": [
       "<matplotlib.axes._subplots.AxesSubplot at 0x7f592cb7e390>"
      ]
     },
     "execution_count": 27,
     "metadata": {},
     "output_type": "execute_result"
    },
    {
     "data": {
      "image/png": "[encoded data removed]",
      "text/plain": [
       "<Figure size 720x504 with 1 Axes>"
      ]
     },
     "metadata": {},
     "output_type": "display_data"
    }
   ],
   "source": [
    "plt.figure(figsize=(10,7))\n",
    "sns.countplot(y=\"Pclass\", hue=\"Sex\", data=train_data,palette=\"cool_r\")"
   ]
  },
  {
   "cell_type": "markdown",
   "execution_count": null,
   "metadata": {},
   "source": [
    "From the above countplot we can say that the maximum number of people embarked at port 'S'\n",
    "\n",
    "1.Number of Deaths is least for the embark port Q.\n",
    "\n",
    "\n",
    "2.Number of Deaths is most for embark port 'S'\n",
    "\n",
    "\n",
    "3.Embark port 'C' has the most number of survivers."
   ]
  },
  {
   "cell_type": "code",
   "execution_count": 28,
   "metadata": {},
   "outputs": [
    {
     "data": {
      "image/png": "[encoded data removed]",
      "text/plain": [
       "<Figure size 1440x1080 with 4 Axes>"
      ]
     },
     "metadata": {},
     "output_type": "display_data"
    }
   ],
   "source": [
    "fig,ax=plt.subplots(2,2,figsize=(20,15))\n",
    "sns.countplot('Embarked',data=train_data,ax=ax[0,0],palette=\"CMRmap\")\n",
    "ax[0,0].set_title('Port Of Embarkment')\n",
    "sns.countplot('Embarked',hue='Pclass',data=train_data,ax=ax[0,1],palette=\"autumn_r\")\n",
    "ax[0,1].set_title('Embarked port V/S Pclass')\n",
    "sns.countplot('Embarked',hue='Survived',data=train_data,ax=ax[1,0],palette=\"CMRmap_r\")\n",
    "ax[1,0].set_title('Embarked port V/S Survived')\n",
    "sns.countplot('Embarked',hue='Sex',data=train_data,ax=ax[1,1],palette=\"icefire_r\")\n",
    "ax[1,1].set_title('Embarked port V/S Sex')\n",
    "plt.show()\n"
   ]
  },
  {
   "cell_type": "markdown",
   "execution_count": null,
   "metadata": {},
   "source": [
    "Port 'S' had most number of people on board, also most Rich folks boarded here, Pclass-1.It also had most number of people from PClass 3 onboard and majority in them were men and hence we have the most number of deaths from Port 'S' and PClass 3.In Port 'S' survival rate of both. men and women seems quiet low.\n",
    "\n",
    "\n",
    "Port 'C' embarkers had the most survival rate and most of the survivers were from PClass1.\n",
    "\n",
    "\n",
    "\n",
    "Port 'Q' had majority od Pclass 3 passengers,Males being more than females,Survivalas were less that the ones reported dead.\n",
    "\n",
    "\n",
    "\n"
   ]
  },
  {
   "cell_type": "markdown",
   "execution_count": null,
   "metadata": {},
   "source": [
    "We will impute null values of Embarked with 'S' as we saw that the majority boarded at port 'S'"
   ]
  },
  {
   "cell_type": "code",
   "execution_count": 29,
   "metadata": {},
   "outputs": [],
   "source": [
    "train_data['Embarked'].fillna('S',inplace=True)"
   ]
  },
  {
   "cell_type": "code",
   "execution_count": 30,
   "metadata": {},
   "outputs": [
    {
     "data": {
      "text/plain": [
       "False"
      ]
     },
     "execution_count": 30,
     "metadata": {},
     "output_type": "execute_result"
    }
   ],
   "source": [
    "train_data.Embarked.isnull().any()"
   ]
  },
  {
   "cell_type": "markdown",
   "execution_count": null,
   "metadata": {},
   "source": [
    "# Sibsp feature:"
   ]
  },
  {
   "cell_type": "markdown",
   "execution_count": null,
   "metadata": {},
   "source": [
    "sibsp: The dataset defines family relations in this way... Sibling = brother, sister, stepbrother, stepsister Spouse = husband, wife (mistresses and fiancés were ignored)"
   ]
  },
  {
   "cell_type": "code",
   "execution_count": 31,
   "metadata": {},
   "outputs": [
    {
     "data": {
      "image/png": "[encoded data removed]",
      "text/plain": [
       "<Figure size 1080x576 with 2 Axes>"
      ]
     },
     "metadata": {},
     "output_type": "display_data"
    }
   ],
   "source": [
    "fig,ax=plt.subplots(1,2,figsize=(15,8))\n",
    "sns.barplot('SibSp','Survived',data=train_data,ax=ax[0])\n",
    "ax[0].set_title('Sibsp V/S Survived')\n",
    "sns.barplot('SibSp','Pclass',hue='Survived',data=train_data,ax=ax[1])\n",
    "ax[1].set_title('Sibsp in Different Pclass V/S Survived')\n",
    "plt.show()"
   ]
  },
  {
   "cell_type": "code",
   "execution_count": 32,
   "metadata": {},
   "outputs": [
    {
     "data": {
      "text/html": [
       "<style  type=\"text/css\" >\n",
       "    #T_a54f3cf6_c850_11ea_9980_0242ac130202row0_col0 {\n",
       "            background-color:  #f4fa66;\n",
       "            color:  #000000;\n",
       "        }    #T_a54f3cf6_c850_11ea_9980_0242ac130202row0_col1 {\n",
       "            background-color:  #ffff66;\n",
       "            color:  #000000;\n",
       "        }    #T_a54f3cf6_c850_11ea_9980_0242ac130202row0_col2 {\n",
       "            background-color:  #ffff66;\n",
       "            color:  #000000;\n",
       "        }    #T_a54f3cf6_c850_11ea_9980_0242ac130202row0_col3 {\n",
       "            background-color:  #e8f466;\n",
       "            color:  #000000;\n",
       "        }    #T_a54f3cf6_c850_11ea_9980_0242ac130202row0_col4 {\n",
       "            background-color:  #ffff66;\n",
       "            color:  #000000;\n",
       "        }    #T_a54f3cf6_c850_11ea_9980_0242ac130202row0_col5 {\n",
       "            background-color:  #ffff66;\n",
       "            color:  #000000;\n",
       "        }    #T_a54f3cf6_c850_11ea_9980_0242ac130202row0_col6 {\n",
       "            background-color:  #ffff66;\n",
       "            color:  #000000;\n",
       "        }    #T_a54f3cf6_c850_11ea_9980_0242ac130202row1_col0 {\n",
       "            background-color:  #e0f066;\n",
       "            color:  #000000;\n",
       "        }    #T_a54f3cf6_c850_11ea_9980_0242ac130202row1_col1 {\n",
       "            background-color:  #148a66;\n",
       "            color:  #000000;\n",
       "        }    #T_a54f3cf6_c850_11ea_9980_0242ac130202row1_col2 {\n",
       "            background-color:  #aad466;\n",
       "            color:  #000000;\n",
       "        }    #T_a54f3cf6_c850_11ea_9980_0242ac130202row1_col3 {\n",
       "            background-color:  #d1e866;\n",
       "            color:  #000000;\n",
       "        }    #T_a54f3cf6_c850_11ea_9980_0242ac130202row1_col4 {\n",
       "            background-color:  #ffff66;\n",
       "            color:  #000000;\n",
       "        }    #T_a54f3cf6_c850_11ea_9980_0242ac130202row1_col5 {\n",
       "            background-color:  #ffff66;\n",
       "            color:  #000000;\n",
       "        }    #T_a54f3cf6_c850_11ea_9980_0242ac130202row1_col6 {\n",
       "            background-color:  #ffff66;\n",
       "            color:  #000000;\n",
       "        }    #T_a54f3cf6_c850_11ea_9980_0242ac130202row2_col0 {\n",
       "            background-color:  #e8f466;\n",
       "            color:  #000000;\n",
       "        }    #T_a54f3cf6_c850_11ea_9980_0242ac130202row2_col1 {\n",
       "            background-color:  #deee66;\n",
       "            color:  #000000;\n",
       "        }    #T_a54f3cf6_c850_11ea_9980_0242ac130202row2_col2 {\n",
       "            background-color:  #aad466;\n",
       "            color:  #000000;\n",
       "        }    #T_a54f3cf6_c850_11ea_9980_0242ac130202row2_col3 {\n",
       "            background-color:  #ffff66;\n",
       "            color:  #000000;\n",
       "        }    #T_a54f3cf6_c850_11ea_9980_0242ac130202row2_col4 {\n",
       "            background-color:  #ffff66;\n",
       "            color:  #000000;\n",
       "        }    #T_a54f3cf6_c850_11ea_9980_0242ac130202row2_col5 {\n",
       "            background-color:  #ffff66;\n",
       "            color:  #000000;\n",
       "        }    #T_a54f3cf6_c850_11ea_9980_0242ac130202row2_col6 {\n",
       "            background-color:  #ffff66;\n",
       "            color:  #000000;\n",
       "        }    #T_a54f3cf6_c850_11ea_9980_0242ac130202row3_col0 {\n",
       "            background-color:  #ffff66;\n",
       "            color:  #000000;\n",
       "        }    #T_a54f3cf6_c850_11ea_9980_0242ac130202row3_col1 {\n",
       "            background-color:  #a1d066;\n",
       "            color:  #000000;\n",
       "        }    #T_a54f3cf6_c850_11ea_9980_0242ac130202row3_col2 {\n",
       "            background-color:  #aad466;\n",
       "            color:  #000000;\n",
       "        }    #T_a54f3cf6_c850_11ea_9980_0242ac130202row3_col3 {\n",
       "            background-color:  #e8f466;\n",
       "            color:  #000000;\n",
       "        }    #T_a54f3cf6_c850_11ea_9980_0242ac130202row3_col4 {\n",
       "            background-color:  #ffff66;\n",
       "            color:  #000000;\n",
       "        }    #T_a54f3cf6_c850_11ea_9980_0242ac130202row3_col5 {\n",
       "            background-color:  #ffff66;\n",
       "            color:  #000000;\n",
       "        }    #T_a54f3cf6_c850_11ea_9980_0242ac130202row3_col6 {\n",
       "            background-color:  #ffff66;\n",
       "            color:  #000000;\n",
       "        }    #T_a54f3cf6_c850_11ea_9980_0242ac130202row4_col0 {\n",
       "            background-color:  #008066;\n",
       "            color:  #f1f1f1;\n",
       "        }    #T_a54f3cf6_c850_11ea_9980_0242ac130202row4_col1 {\n",
       "            background-color:  #008066;\n",
       "            color:  #f1f1f1;\n",
       "        }    #T_a54f3cf6_c850_11ea_9980_0242ac130202row4_col2 {\n",
       "            background-color:  #008066;\n",
       "            color:  #f1f1f1;\n",
       "        }    #T_a54f3cf6_c850_11ea_9980_0242ac130202row4_col3 {\n",
       "            background-color:  #008066;\n",
       "            color:  #f1f1f1;\n",
       "        }    #T_a54f3cf6_c850_11ea_9980_0242ac130202row4_col4 {\n",
       "            background-color:  #008066;\n",
       "            color:  #f1f1f1;\n",
       "        }    #T_a54f3cf6_c850_11ea_9980_0242ac130202row4_col5 {\n",
       "            background-color:  #008066;\n",
       "            color:  #f1f1f1;\n",
       "        }    #T_a54f3cf6_c850_11ea_9980_0242ac130202row4_col6 {\n",
       "            background-color:  #008066;\n",
       "            color:  #f1f1f1;\n",
       "        }    #T_a54f3cf6_c850_11ea_9980_0242ac130202row5_col0 {\n",
       "            background-color:  #d9ec66;\n",
       "            color:  #000000;\n",
       "        }    #T_a54f3cf6_c850_11ea_9980_0242ac130202row5_col1 {\n",
       "            background-color:  #c3e166;\n",
       "            color:  #000000;\n",
       "        }    #T_a54f3cf6_c850_11ea_9980_0242ac130202row5_col2 {\n",
       "            background-color:  #8ec666;\n",
       "            color:  #000000;\n",
       "        }    #T_a54f3cf6_c850_11ea_9980_0242ac130202row5_col3 {\n",
       "            background-color:  #e8f466;\n",
       "            color:  #000000;\n",
       "        }    #T_a54f3cf6_c850_11ea_9980_0242ac130202row5_col4 {\n",
       "            background-color:  #cce666;\n",
       "            color:  #000000;\n",
       "        }    #T_a54f3cf6_c850_11ea_9980_0242ac130202row5_col5 {\n",
       "            background-color:  #ffff66;\n",
       "            color:  #000000;\n",
       "        }    #T_a54f3cf6_c850_11ea_9980_0242ac130202row5_col6 {\n",
       "            background-color:  #ffff66;\n",
       "            color:  #000000;\n",
       "        }</style><table id=\"T_a54f3cf6_c850_11ea_9980_0242ac130202\" ><thead>    <tr>        <th class=\"blank\" ></th>        <th class=\"index_name level0\" >SibSp</th>        <th class=\"col_heading level0 col0\" >0</th>        <th class=\"col_heading level0 col1\" >1</th>        <th class=\"col_heading level0 col2\" >2</th>        <th class=\"col_heading level0 col3\" >3</th>        <th class=\"col_heading level0 col4\" >4</th>        <th class=\"col_heading level0 col5\" >5</th>        <th class=\"col_heading level0 col6\" >8</th>    </tr>    <tr>        <th class=\"index_name level0\" >Pclass</th>        <th class=\"index_name level1\" >Survived</th>        <th class=\"blank\" ></th>        <th class=\"blank\" ></th>        <th class=\"blank\" ></th>        <th class=\"blank\" ></th>        <th class=\"blank\" ></th>        <th class=\"blank\" ></th>        <th class=\"blank\" ></th>    </tr></thead><tbody>\n",
       "                <tr>\n",
       "                        <th id=\"T_a54f3cf6_c850_11ea_9980_0242ac130202level0_row0\" class=\"row_heading level0 row0\" rowspan=2>1</th>\n",
       "                        <th id=\"T_a54f3cf6_c850_11ea_9980_0242ac130202level1_row0\" class=\"row_heading level1 row0\" >0</th>\n",
       "                        <td id=\"T_a54f3cf6_c850_11ea_9980_0242ac130202row0_col0\" class=\"data row0 col0\" >60</td>\n",
       "                        <td id=\"T_a54f3cf6_c850_11ea_9980_0242ac130202row0_col1\" class=\"data row0 col1\" >18</td>\n",
       "                        <td id=\"T_a54f3cf6_c850_11ea_9980_0242ac130202row0_col2\" class=\"data row0 col2\" >1</td>\n",
       "                        <td id=\"T_a54f3cf6_c850_11ea_9980_0242ac130202row0_col3\" class=\"data row0 col3\" >1</td>\n",
       "                        <td id=\"T_a54f3cf6_c850_11ea_9980_0242ac130202row0_col4\" class=\"data row0 col4\" >0</td>\n",
       "                        <td id=\"T_a54f3cf6_c850_11ea_9980_0242ac130202row0_col5\" class=\"data row0 col5\" >0</td>\n",
       "                        <td id=\"T_a54f3cf6_c850_11ea_9980_0242ac130202row0_col6\" class=\"data row0 col6\" >0</td>\n",
       "            </tr>\n",
       "            <tr>\n",
       "                                <th id=\"T_a54f3cf6_c850_11ea_9980_0242ac130202level1_row1\" class=\"row_heading level1 row1\" >1</th>\n",
       "                        <td id=\"T_a54f3cf6_c850_11ea_9980_0242ac130202row1_col0\" class=\"data row1 col0\" >77</td>\n",
       "                        <td id=\"T_a54f3cf6_c850_11ea_9980_0242ac130202row1_col1\" class=\"data row1 col1\" >53</td>\n",
       "                        <td id=\"T_a54f3cf6_c850_11ea_9980_0242ac130202row1_col2\" class=\"data row1 col2\" >4</td>\n",
       "                        <td id=\"T_a54f3cf6_c850_11ea_9980_0242ac130202row1_col3\" class=\"data row1 col3\" >2</td>\n",
       "                        <td id=\"T_a54f3cf6_c850_11ea_9980_0242ac130202row1_col4\" class=\"data row1 col4\" >0</td>\n",
       "                        <td id=\"T_a54f3cf6_c850_11ea_9980_0242ac130202row1_col5\" class=\"data row1 col5\" >0</td>\n",
       "                        <td id=\"T_a54f3cf6_c850_11ea_9980_0242ac130202row1_col6\" class=\"data row1 col6\" >0</td>\n",
       "            </tr>\n",
       "            <tr>\n",
       "                        <th id=\"T_a54f3cf6_c850_11ea_9980_0242ac130202level0_row2\" class=\"row_heading level0 row2\" rowspan=2>2</th>\n",
       "                        <th id=\"T_a54f3cf6_c850_11ea_9980_0242ac130202level1_row2\" class=\"row_heading level1 row2\" >0</th>\n",
       "                        <td id=\"T_a54f3cf6_c850_11ea_9980_0242ac130202row2_col0\" class=\"data row2 col0\" >70</td>\n",
       "                        <td id=\"T_a54f3cf6_c850_11ea_9980_0242ac130202row2_col1\" class=\"data row2 col1\" >23</td>\n",
       "                        <td id=\"T_a54f3cf6_c850_11ea_9980_0242ac130202row2_col2\" class=\"data row2 col2\" >4</td>\n",
       "                        <td id=\"T_a54f3cf6_c850_11ea_9980_0242ac130202row2_col3\" class=\"data row2 col3\" >0</td>\n",
       "                        <td id=\"T_a54f3cf6_c850_11ea_9980_0242ac130202row2_col4\" class=\"data row2 col4\" >0</td>\n",
       "                        <td id=\"T_a54f3cf6_c850_11ea_9980_0242ac130202row2_col5\" class=\"data row2 col5\" >0</td>\n",
       "                        <td id=\"T_a54f3cf6_c850_11ea_9980_0242ac130202row2_col6\" class=\"data row2 col6\" >0</td>\n",
       "            </tr>\n",
       "            <tr>\n",
       "                                <th id=\"T_a54f3cf6_c850_11ea_9980_0242ac130202level1_row3\" class=\"row_heading level1 row3\" >1</th>\n",
       "                        <td id=\"T_a54f3cf6_c850_11ea_9980_0242ac130202row3_col0\" class=\"data row3 col0\" >50</td>\n",
       "                        <td id=\"T_a54f3cf6_c850_11ea_9980_0242ac130202row3_col1\" class=\"data row3 col1\" >32</td>\n",
       "                        <td id=\"T_a54f3cf6_c850_11ea_9980_0242ac130202row3_col2\" class=\"data row3 col2\" >4</td>\n",
       "                        <td id=\"T_a54f3cf6_c850_11ea_9980_0242ac130202row3_col3\" class=\"data row3 col3\" >1</td>\n",
       "                        <td id=\"T_a54f3cf6_c850_11ea_9980_0242ac130202row3_col4\" class=\"data row3 col4\" >0</td>\n",
       "                        <td id=\"T_a54f3cf6_c850_11ea_9980_0242ac130202row3_col5\" class=\"data row3 col5\" >0</td>\n",
       "                        <td id=\"T_a54f3cf6_c850_11ea_9980_0242ac130202row3_col6\" class=\"data row3 col6\" >0</td>\n",
       "            </tr>\n",
       "            <tr>\n",
       "                        <th id=\"T_a54f3cf6_c850_11ea_9980_0242ac130202level0_row4\" class=\"row_heading level0 row4\" rowspan=2>3</th>\n",
       "                        <th id=\"T_a54f3cf6_c850_11ea_9980_0242ac130202level1_row4\" class=\"row_heading level1 row4\" >0</th>\n",
       "                        <td id=\"T_a54f3cf6_c850_11ea_9980_0242ac130202row4_col0\" class=\"data row4 col0\" >268</td>\n",
       "                        <td id=\"T_a54f3cf6_c850_11ea_9980_0242ac130202row4_col1\" class=\"data row4 col1\" >56</td>\n",
       "                        <td id=\"T_a54f3cf6_c850_11ea_9980_0242ac130202row4_col2\" class=\"data row4 col2\" >10</td>\n",
       "                        <td id=\"T_a54f3cf6_c850_11ea_9980_0242ac130202row4_col3\" class=\"data row4 col3\" >11</td>\n",
       "                        <td id=\"T_a54f3cf6_c850_11ea_9980_0242ac130202row4_col4\" class=\"data row4 col4\" >15</td>\n",
       "                        <td id=\"T_a54f3cf6_c850_11ea_9980_0242ac130202row4_col5\" class=\"data row4 col5\" >5</td>\n",
       "                        <td id=\"T_a54f3cf6_c850_11ea_9980_0242ac130202row4_col6\" class=\"data row4 col6\" >7</td>\n",
       "            </tr>\n",
       "            <tr>\n",
       "                                <th id=\"T_a54f3cf6_c850_11ea_9980_0242ac130202level1_row5\" class=\"row_heading level1 row5\" >1</th>\n",
       "                        <td id=\"T_a54f3cf6_c850_11ea_9980_0242ac130202row5_col0\" class=\"data row5 col0\" >83</td>\n",
       "                        <td id=\"T_a54f3cf6_c850_11ea_9980_0242ac130202row5_col1\" class=\"data row5 col1\" >27</td>\n",
       "                        <td id=\"T_a54f3cf6_c850_11ea_9980_0242ac130202row5_col2\" class=\"data row5 col2\" >5</td>\n",
       "                        <td id=\"T_a54f3cf6_c850_11ea_9980_0242ac130202row5_col3\" class=\"data row5 col3\" >1</td>\n",
       "                        <td id=\"T_a54f3cf6_c850_11ea_9980_0242ac130202row5_col4\" class=\"data row5 col4\" >3</td>\n",
       "                        <td id=\"T_a54f3cf6_c850_11ea_9980_0242ac130202row5_col5\" class=\"data row5 col5\" >0</td>\n",
       "                        <td id=\"T_a54f3cf6_c850_11ea_9980_0242ac130202row5_col6\" class=\"data row5 col6\" >0</td>\n",
       "            </tr>\n",
       "    </tbody></table>"
      ],
      "text/plain": [
       "<pandas.io.formats.style.Styler at 0x7f592ca62350>"
      ]
     },
     "execution_count": 32,
     "metadata": {},
     "output_type": "execute_result"
    }
   ],
   "source": [
    "pd.crosstab([train_data.Pclass,train_data.Survived],train_data.SibSp).style.background_gradient(cmap='summer_r')"
   ]
  },
  {
   "cell_type": "markdown",
   "execution_count": null,
   "metadata": {},
   "source": [
    "## From the above Barplots and Crosstabulation we can come to the following conclusion:\n",
    "* The Pclass 3 had most number of Casualities.\n",
    "* The people who travelled with more family memebers were worstly affected by the disaster,mostly because the people with more family members travelled in the 3rd Class.\n",
    "* People with more than 4 family members barely survived.\n",
    "\n",
    "\n",
    "\n"
   ]
  },
  {
   "cell_type": "code",
   "execution_count": 33,
   "metadata": {},
   "outputs": [
    {
     "data": {
      "text/plain": [
       "PassengerId      0\n",
       "Survived         0\n",
       "Pclass           0\n",
       "Name             0\n",
       "Sex              0\n",
       "Age              0\n",
       "SibSp            0\n",
       "Parch            0\n",
       "Ticket           0\n",
       "Fare             0\n",
       "Cabin          687\n",
       "Embarked         0\n",
       "Prefix           0\n",
       "dtype: int64"
      ]
     },
     "execution_count": 33,
     "metadata": {},
     "output_type": "execute_result"
    }
   ],
   "source": [
    "train_data.isnull().sum()"
   ]
  },
  {
   "cell_type": "markdown",
   "execution_count": null,
   "metadata": {},
   "source": [
    "# Cabin:"
   ]
  },
  {
   "cell_type": "code",
   "execution_count": 34,
   "metadata": {},
   "outputs": [
    {
     "data": {
      "text/plain": [
       "array([nan, 'C85', nan, 'C123', nan, nan, 'E46', nan, nan, nan, 'G6',\n",
       "       'C103', nan, nan, nan, nan, nan, nan, nan, nan, nan, 'D56', nan,\n",
       "       'A6', nan, nan, nan, 'C23 C25 C27', nan, nan, nan, 'B78', nan, nan,\n",
       "       nan, nan, nan, nan, nan, nan, nan, nan, nan, nan, nan, nan, nan,\n",
       "       nan, nan, nan, nan, nan, 'D33', nan, 'B30', 'C52', nan, nan, nan,\n",
       "       nan, nan, 'B28', 'C83', nan, nan, nan, 'F33', nan, nan, nan, nan,\n",
       "       nan, nan, nan, nan, 'F G73', nan, nan, nan, nan, nan, nan, nan,\n",
       "       nan, nan, nan, nan, nan, 'C23 C25 C27', nan, nan, nan, 'E31', nan,\n",
       "       nan, nan, 'A5', 'D10 D12', nan, nan, nan, nan, 'D26', nan, nan,\n",
       "       nan, nan, nan, nan, nan, 'C110', nan, nan, nan, nan, nan, nan, nan,\n",
       "       'B58 B60', nan, nan, nan, nan, 'E101', 'D26', nan, nan, nan,\n",
       "       'F E69', nan, nan, nan, nan, nan, nan, nan, 'D47', 'C123', nan,\n",
       "       'B86', nan, nan, nan, nan, nan, nan, nan, nan, 'F2', nan, nan,\n",
       "       'C2', nan, nan, nan, nan, nan, nan, nan, nan, nan, nan, nan, nan,\n",
       "       nan, nan, 'E33', nan, nan, nan, 'B19', nan, nan, nan, 'A7', nan,\n",
       "       nan, 'C49', nan, nan, nan, nan, nan, 'F4', nan, 'A32', nan, nan,\n",
       "       nan, nan, nan, nan, nan, 'F2', 'B4', 'B80', nan, nan, nan, nan,\n",
       "       nan, nan, nan, nan, nan, 'G6', nan, nan, nan, 'A31', nan, nan, nan,\n",
       "       nan, nan, 'D36', nan, nan, 'D15', nan, nan, nan, nan, nan, 'C93',\n",
       "       nan, nan, nan, nan, nan, 'C83', nan, nan, nan, nan, nan, nan, nan,\n",
       "       nan, nan, nan, nan, nan, nan, nan, 'C78', nan, nan, 'D35', nan,\n",
       "       nan, 'G6', 'C87', nan, nan, nan, nan, 'B77', nan, nan, nan, nan,\n",
       "       'E67', 'B94', nan, nan, nan, nan, 'C125', 'C99', nan, nan, nan,\n",
       "       'C118', nan, 'D7', nan, nan, nan, nan, nan, nan, nan, nan, 'A19',\n",
       "       nan, nan, nan, nan, nan, nan, 'B49', 'D', nan, nan, nan, nan,\n",
       "       'C22 C26', 'C106', 'B58 B60', nan, nan, nan, 'E101', nan,\n",
       "       'C22 C26', nan, 'C65', nan, 'E36', 'C54', 'B57 B59 B63 B66', nan,\n",
       "       nan, nan, nan, nan, nan, 'C7', 'E34', nan, nan, nan, nan, nan,\n",
       "       'C32', nan, 'D', nan, 'B18', nan, 'C124', 'C91', nan, nan, nan,\n",
       "       'C2', 'E40', nan, 'T', 'F2', 'C23 C25 C27', nan, nan, nan, 'F33',\n",
       "       nan, nan, nan, nan, nan, 'C128', nan, nan, nan, nan, 'E33', nan,\n",
       "       nan, nan, nan, nan, nan, nan, nan, nan, 'D37', nan, nan, 'B35',\n",
       "       'E50', nan, nan, nan, nan, nan, nan, 'C82', nan, nan, nan, nan,\n",
       "       nan, nan, nan, nan, nan, nan, nan, nan, 'B96 B98', nan, nan, 'D36',\n",
       "       'G6', nan, nan, nan, nan, nan, nan, nan, nan, nan, nan, nan, nan,\n",
       "       nan, nan, nan, nan, nan, 'C78', nan, nan, nan, nan, nan, nan, nan,\n",
       "       nan, nan, nan, nan, nan, nan, nan, nan, nan, 'E10', 'C52', nan,\n",
       "       nan, nan, 'E44', 'B96 B98', nan, nan, 'C23 C25 C27', nan, nan, nan,\n",
       "       nan, nan, nan, 'A34', nan, nan, nan, 'C104', nan, nan, 'C111',\n",
       "       'C92', nan, nan, 'E38', 'D21', nan, nan, 'E12', nan, 'E63', nan,\n",
       "       nan, nan, nan, nan, nan, nan, nan, nan, nan, 'D', nan, 'A14', nan,\n",
       "       nan, nan, nan, nan, nan, nan, nan, 'B49', nan, 'C93', 'B37', nan,\n",
       "       nan, nan, nan, 'C30', nan, nan, nan, 'D20', nan, 'C22 C26', nan,\n",
       "       nan, nan, nan, nan, 'B79', 'C65', nan, nan, nan, nan, nan, nan,\n",
       "       'E25', nan, nan, 'D46', 'F33', nan, nan, nan, 'B73', nan, nan,\n",
       "       'B18', nan, nan, nan, 'C95', nan, nan, nan, nan, nan, nan, nan,\n",
       "       nan, 'B38', nan, nan, 'B39', 'B22', nan, nan, nan, 'C86', nan, nan,\n",
       "       nan, nan, nan, 'C70', nan, nan, nan, nan, nan, 'A16', nan, 'E67',\n",
       "       nan, nan, nan, nan, nan, nan, nan, nan, nan, nan, nan, nan, 'C101',\n",
       "       'E25', nan, nan, nan, nan, 'E44', nan, nan, nan, 'C68', nan, 'A10',\n",
       "       nan, 'E68', nan, 'B41', nan, nan, nan, 'D20', nan, nan, nan, nan,\n",
       "       nan, nan, nan, 'A20', nan, nan, nan, nan, nan, nan, nan, nan, nan,\n",
       "       'C125', nan, nan, nan, nan, nan, nan, nan, nan, 'F4', nan, nan,\n",
       "       'D19', nan, nan, nan, 'D50', nan, 'D9', nan, nan, 'A23', nan,\n",
       "       'B50', nan, nan, nan, nan, nan, nan, nan, nan, 'B35', nan, nan,\n",
       "       nan, 'D33', nan, 'A26', nan, nan, nan, nan, nan, nan, nan, nan,\n",
       "       nan, nan, nan, 'D48', nan, nan, 'E58', nan, nan, nan, nan, nan,\n",
       "       nan, 'C126', nan, 'B71', nan, nan, nan, nan, nan, nan, nan,\n",
       "       'B51 B53 B55', nan, 'D49', nan, nan, nan, nan, nan, nan, nan, 'B5',\n",
       "       'B20', nan, nan, nan, nan, nan, nan, nan, 'C68', 'F G63',\n",
       "       'C62 C64', 'E24', nan, nan, nan, nan, nan, 'E24', nan, nan, 'C90',\n",
       "       'C124', 'C126', nan, nan, 'F G73', 'C45', 'E101', nan, nan, nan,\n",
       "       nan, nan, nan, 'E8', nan, nan, nan, nan, nan, 'B5', nan, nan, nan,\n",
       "       nan, nan, nan, 'B101', nan, nan, 'D45', 'C46', 'B57 B59 B63 B66',\n",
       "       nan, nan, 'B22', nan, nan, 'D30', nan, nan, 'E121', nan, nan, nan,\n",
       "       nan, nan, nan, nan, 'B77', nan, nan, nan, 'B96 B98', nan, 'D11',\n",
       "       nan, nan, nan, nan, nan, nan, 'E77', nan, nan, nan, 'F38', nan,\n",
       "       nan, 'B3', nan, 'B20', 'D6', nan, nan, nan, nan, nan, nan,\n",
       "       'B82 B84', nan, nan, nan, nan, nan, nan, 'D17', nan, nan, nan, nan,\n",
       "       nan, 'B96 B98', nan, nan, nan, 'A36', nan, nan, 'E8', nan, nan,\n",
       "       nan, nan, nan, 'B102', nan, nan, nan, nan, 'B69', nan, nan, 'E121',\n",
       "       nan, nan, nan, nan, nan, 'B28', nan, nan, nan, nan, nan, 'E49',\n",
       "       nan, nan, nan, 'C47', nan, nan, nan, nan, nan, nan, nan, nan, nan,\n",
       "       'C92', nan, nan, nan, 'D28', nan, nan, nan, 'E17', nan, nan, nan,\n",
       "       nan, 'D17', nan, nan, nan, nan, 'A24', nan, nan, nan, 'D35',\n",
       "       'B51 B53 B55', nan, nan, nan, nan, nan, nan, 'C50', nan, nan, nan,\n",
       "       nan, nan, nan, nan, 'B42', nan, 'C148', nan], dtype=object)"
      ]
     },
     "execution_count": 34,
     "metadata": {},
     "output_type": "execute_result"
    }
   ],
   "source": [
    "train_data['Cabin'].values"
   ]
  },
  {
   "cell_type": "markdown",
   "execution_count": null,
   "metadata": {},
   "source": [
    "Turns out that the first letter in Cabiun values first letter signifies the deck in which they are located."
   ]
  },
  {
   "cell_type": "markdown",
   "execution_count": null,
   "metadata": {},
   "source": [
    "Since these features dont seem to have any direct relationship with the target and dont add much value to our data we will drop the below features."
   ]
  },
  {
   "cell_type": "code",
   "execution_count": 35,
   "metadata": {},
   "outputs": [],
   "source": [
    "drop_column = ['PassengerId','Cabin', 'Ticket']\n",
    "train_data.drop(drop_column, axis=1, inplace = True)"
   ]
  },
  {
   "cell_type": "code",
   "execution_count": 36,
   "metadata": {},
   "outputs": [
    {
     "data": {
      "text/html": [
       "<div>\n",
       "<style scoped>\n",
       "    .dataframe tbody tr th:only-of-type {\n",
       "        vertical-align: middle;\n",
       "    }\n",
       "\n",
       "    .dataframe tbody tr th {\n",
       "        vertical-align: top;\n",
       "    }\n",
       "\n",
       "    .dataframe thead th {\n",
       "        text-align: right;\n",
       "    }\n",
       "</style>\n",
       "<table border=\"1\" class=\"dataframe\">\n",
       "  <thead>\n",
       "    <tr style=\"text-align: right;\">\n",
       "      <th></th>\n",
       "      <th>Survived</th>\n",
       "      <th>Pclass</th>\n",
       "      <th>Name</th>\n",
       "      <th>Sex</th>\n",
       "      <th>Age</th>\n",
       "      <th>SibSp</th>\n",
       "      <th>Parch</th>\n",
       "      <th>Fare</th>\n",
       "      <th>Embarked</th>\n",
       "      <th>Prefix</th>\n",
       "    </tr>\n",
       "  </thead>\n",
       "  <tbody>\n",
       "    <tr>\n",
       "      <th>0</th>\n",
       "      <td>0</td>\n",
       "      <td>3</td>\n",
       "      <td>Braund, Mr. Owen Harris</td>\n",
       "      <td>male</td>\n",
       "      <td>22.0</td>\n",
       "      <td>1</td>\n",
       "      <td>0</td>\n",
       "      <td>7.2500</td>\n",
       "      <td>S</td>\n",
       "      <td>Mr</td>\n",
       "    </tr>\n",
       "    <tr>\n",
       "      <th>1</th>\n",
       "      <td>1</td>\n",
       "      <td>1</td>\n",
       "      <td>Cumings, Mrs. John Bradley (Florence Briggs Th...</td>\n",
       "      <td>female</td>\n",
       "      <td>38.0</td>\n",
       "      <td>1</td>\n",
       "      <td>0</td>\n",
       "      <td>71.2833</td>\n",
       "      <td>C</td>\n",
       "      <td>Mrs</td>\n",
       "    </tr>\n",
       "    <tr>\n",
       "      <th>2</th>\n",
       "      <td>1</td>\n",
       "      <td>3</td>\n",
       "      <td>Heikkinen, Miss. Laina</td>\n",
       "      <td>female</td>\n",
       "      <td>26.0</td>\n",
       "      <td>0</td>\n",
       "      <td>0</td>\n",
       "      <td>7.9250</td>\n",
       "      <td>S</td>\n",
       "      <td>Miss</td>\n",
       "    </tr>\n",
       "    <tr>\n",
       "      <th>3</th>\n",
       "      <td>1</td>\n",
       "      <td>1</td>\n",
       "      <td>Futrelle, Mrs. Jacques Heath (Lily May Peel)</td>\n",
       "      <td>female</td>\n",
       "      <td>35.0</td>\n",
       "      <td>1</td>\n",
       "      <td>0</td>\n",
       "      <td>53.1000</td>\n",
       "      <td>S</td>\n",
       "      <td>Mrs</td>\n",
       "    </tr>\n",
       "    <tr>\n",
       "      <th>4</th>\n",
       "      <td>0</td>\n",
       "      <td>3</td>\n",
       "      <td>Allen, Mr. William Henry</td>\n",
       "      <td>male</td>\n",
       "      <td>35.0</td>\n",
       "      <td>0</td>\n",
       "      <td>0</td>\n",
       "      <td>8.0500</td>\n",
       "      <td>S</td>\n",
       "      <td>Mr</td>\n",
       "    </tr>\n",
       "  </tbody>\n",
       "</table>\n",
       "</div>"
      ],
      "text/plain": [
       "   Survived  Pclass                                               Name  \\\n",
       "0         0       3                            Braund, Mr. Owen Harris   \n",
       "1         1       1  Cumings, Mrs. John Bradley (Florence Briggs Th...   \n",
       "2         1       3                             Heikkinen, Miss. Laina   \n",
       "3         1       1       Futrelle, Mrs. Jacques Heath (Lily May Peel)   \n",
       "4         0       3                           Allen, Mr. William Henry   \n",
       "\n",
       "      Sex   Age  SibSp  Parch     Fare Embarked Prefix  \n",
       "0    male  22.0      1      0   7.2500        S     Mr  \n",
       "1  female  38.0      1      0  71.2833        C    Mrs  \n",
       "2  female  26.0      0      0   7.9250        S   Miss  \n",
       "3  female  35.0      1      0  53.1000        S    Mrs  \n",
       "4    male  35.0      0      0   8.0500        S     Mr  "
      ]
     },
     "execution_count": 36,
     "metadata": {},
     "output_type": "execute_result"
    }
   ],
   "source": [
    "train_data.head()"
   ]
  },
  {
   "cell_type": "code",
   "execution_count": 37,
   "metadata": {},
   "outputs": [
    {
     "data": {
      "text/html": [
       "<style  type=\"text/css\" >\n",
       "    #T_a55fa924_c850_11ea_9980_0242ac130202row0_col0 {\n",
       "            background-color:  #008066;\n",
       "            color:  #f1f1f1;\n",
       "        }    #T_a55fa924_c850_11ea_9980_0242ac130202row0_col1 {\n",
       "            background-color:  #008066;\n",
       "            color:  #f1f1f1;\n",
       "        }    #T_a55fa924_c850_11ea_9980_0242ac130202row1_col0 {\n",
       "            background-color:  #e2f066;\n",
       "            color:  #000000;\n",
       "        }    #T_a55fa924_c850_11ea_9980_0242ac130202row1_col1 {\n",
       "            background-color:  #b8dc66;\n",
       "            color:  #000000;\n",
       "        }    #T_a55fa924_c850_11ea_9980_0242ac130202row2_col0 {\n",
       "            background-color:  #e9f466;\n",
       "            color:  #000000;\n",
       "        }    #T_a55fa924_c850_11ea_9980_0242ac130202row2_col1 {\n",
       "            background-color:  #d4ea66;\n",
       "            color:  #000000;\n",
       "        }    #T_a55fa924_c850_11ea_9980_0242ac130202row3_col0 {\n",
       "            background-color:  #ffff66;\n",
       "            color:  #000000;\n",
       "        }    #T_a55fa924_c850_11ea_9980_0242ac130202row3_col1 {\n",
       "            background-color:  #fcfe66;\n",
       "            color:  #000000;\n",
       "        }    #T_a55fa924_c850_11ea_9980_0242ac130202row4_col0 {\n",
       "            background-color:  #fefe66;\n",
       "            color:  #000000;\n",
       "        }    #T_a55fa924_c850_11ea_9980_0242ac130202row4_col1 {\n",
       "            background-color:  #ffff66;\n",
       "            color:  #000000;\n",
       "        }    #T_a55fa924_c850_11ea_9980_0242ac130202row5_col0 {\n",
       "            background-color:  #fefe66;\n",
       "            color:  #000000;\n",
       "        }    #T_a55fa924_c850_11ea_9980_0242ac130202row5_col1 {\n",
       "            background-color:  #fefe66;\n",
       "            color:  #000000;\n",
       "        }    #T_a55fa924_c850_11ea_9980_0242ac130202row6_col0 {\n",
       "            background-color:  #ffff66;\n",
       "            color:  #000000;\n",
       "        }    #T_a55fa924_c850_11ea_9980_0242ac130202row6_col1 {\n",
       "            background-color:  #ffff66;\n",
       "            color:  #000000;\n",
       "        }</style><table id=\"T_a55fa924_c850_11ea_9980_0242ac130202\" ><thead>    <tr>        <th class=\"index_name level0\" >Survived</th>        <th class=\"col_heading level0 col0\" >0</th>        <th class=\"col_heading level0 col1\" >1</th>    </tr>    <tr>        <th class=\"index_name level0\" >Parch</th>        <th class=\"blank\" ></th>        <th class=\"blank\" ></th>    </tr></thead><tbody>\n",
       "                <tr>\n",
       "                        <th id=\"T_a55fa924_c850_11ea_9980_0242ac130202level0_row0\" class=\"row_heading level0 row0\" >0</th>\n",
       "                        <td id=\"T_a55fa924_c850_11ea_9980_0242ac130202row0_col0\" class=\"data row0 col0\" >445</td>\n",
       "                        <td id=\"T_a55fa924_c850_11ea_9980_0242ac130202row0_col1\" class=\"data row0 col1\" >233</td>\n",
       "            </tr>\n",
       "            <tr>\n",
       "                        <th id=\"T_a55fa924_c850_11ea_9980_0242ac130202level0_row1\" class=\"row_heading level0 row1\" >1</th>\n",
       "                        <td id=\"T_a55fa924_c850_11ea_9980_0242ac130202row1_col0\" class=\"data row1 col0\" >53</td>\n",
       "                        <td id=\"T_a55fa924_c850_11ea_9980_0242ac130202row1_col1\" class=\"data row1 col1\" >65</td>\n",
       "            </tr>\n",
       "            <tr>\n",
       "                        <th id=\"T_a55fa924_c850_11ea_9980_0242ac130202level0_row2\" class=\"row_heading level0 row2\" >2</th>\n",
       "                        <td id=\"T_a55fa924_c850_11ea_9980_0242ac130202row2_col0\" class=\"data row2 col0\" >40</td>\n",
       "                        <td id=\"T_a55fa924_c850_11ea_9980_0242ac130202row2_col1\" class=\"data row2 col1\" >40</td>\n",
       "            </tr>\n",
       "            <tr>\n",
       "                        <th id=\"T_a55fa924_c850_11ea_9980_0242ac130202level0_row3\" class=\"row_heading level0 row3\" >3</th>\n",
       "                        <td id=\"T_a55fa924_c850_11ea_9980_0242ac130202row3_col0\" class=\"data row3 col0\" >2</td>\n",
       "                        <td id=\"T_a55fa924_c850_11ea_9980_0242ac130202row3_col1\" class=\"data row3 col1\" >3</td>\n",
       "            </tr>\n",
       "            <tr>\n",
       "                        <th id=\"T_a55fa924_c850_11ea_9980_0242ac130202level0_row4\" class=\"row_heading level0 row4\" >4</th>\n",
       "                        <td id=\"T_a55fa924_c850_11ea_9980_0242ac130202row4_col0\" class=\"data row4 col0\" >4</td>\n",
       "                        <td id=\"T_a55fa924_c850_11ea_9980_0242ac130202row4_col1\" class=\"data row4 col1\" >0</td>\n",
       "            </tr>\n",
       "            <tr>\n",
       "                        <th id=\"T_a55fa924_c850_11ea_9980_0242ac130202level0_row5\" class=\"row_heading level0 row5\" >5</th>\n",
       "                        <td id=\"T_a55fa924_c850_11ea_9980_0242ac130202row5_col0\" class=\"data row5 col0\" >4</td>\n",
       "                        <td id=\"T_a55fa924_c850_11ea_9980_0242ac130202row5_col1\" class=\"data row5 col1\" >1</td>\n",
       "            </tr>\n",
       "            <tr>\n",
       "                        <th id=\"T_a55fa924_c850_11ea_9980_0242ac130202level0_row6\" class=\"row_heading level0 row6\" >6</th>\n",
       "                        <td id=\"T_a55fa924_c850_11ea_9980_0242ac130202row6_col0\" class=\"data row6 col0\" >1</td>\n",
       "                        <td id=\"T_a55fa924_c850_11ea_9980_0242ac130202row6_col1\" class=\"data row6 col1\" >0</td>\n",
       "            </tr>\n",
       "    </tbody></table>"
      ],
      "text/plain": [
       "<pandas.io.formats.style.Styler at 0x7f592c841b90>"
      ]
     },
     "execution_count": 37,
     "metadata": {},
     "output_type": "execute_result"
    }
   ],
   "source": [
    "pd.crosstab(train_data.Parch,train_data.Survived).style.background_gradient(cmap='summer_r')"
   ]
  },
  {
   "cell_type": "markdown",
   "execution_count": null,
   "metadata": {},
   "source": [
    "More children who boarded with the nanny survived."
   ]
  },
  {
   "cell_type": "code",
   "execution_count": 38,
   "metadata": {},
   "outputs": [
    {
     "data": {
      "text/plain": [
       "0    678\n",
       "1    118\n",
       "2     80\n",
       "5      5\n",
       "3      5\n",
       "4      4\n",
       "6      1\n",
       "Name: Parch, dtype: int64"
      ]
     },
     "execution_count": 38,
     "metadata": {},
     "output_type": "execute_result"
    }
   ],
   "source": [
    "train_data['Parch'].value_counts()"
   ]
  },
  {
   "cell_type": "code",
   "execution_count": 39,
   "metadata": {},
   "outputs": [
    {
     "data": {
      "text/plain": [
       "891"
      ]
     },
     "execution_count": 39,
     "metadata": {},
     "output_type": "execute_result"
    }
   ],
   "source": [
    "train_data.Parch.count()"
   ]
  },
  {
   "cell_type": "code",
   "execution_count": 40,
   "metadata": {},
   "outputs": [
    {
     "data": {
      "text/plain": [
       "array([0, 1, 2, 5, 3, 4, 6])"
      ]
     },
     "execution_count": 40,
     "metadata": {},
     "output_type": "execute_result"
    }
   ],
   "source": [
    "train_data['Parch'].unique()"
   ]
  },
  {
   "cell_type": "code",
   "execution_count": 41,
   "metadata": {},
   "outputs": [
    {
     "data": {
      "image/png": "[encoded data removed]",
      "text/plain": [
       "<Figure size 864x720 with 2 Axes>"
      ]
     },
     "metadata": {},
     "output_type": "display_data"
    }
   ],
   "source": [
    "plt.figure(figsize=(12,10))\n",
    "corr_back = train_data.corr()\n",
    "\n",
    "\n",
    "mask = np.zeros_like(corr_back, dtype=np.bool)\n",
    "mask[np.triu_indices_from(mask)] = True\n",
    "\n",
    "\n",
    "sns.heatmap(corr_back, mask=mask, center=0, square=True, linewidths=.5)\n",
    "\n",
    "plt.show()"
   ]
  },
  {
   "cell_type": "markdown",
   "execution_count": null,
   "metadata": {},
   "source": [
    "# Model Building:"
   ]
  },
  {
   "cell_type": "code",
   "execution_count": 42,
   "metadata": {},
   "outputs": [
    {
     "name": "stdout",
     "output_type": "stream",
     "text": [
      "<class 'pandas.core.frame.DataFrame'>\n",
      "RangeIndex: 891 entries, 0 to 890\n",
      "Data columns (total 10 columns):\n",
      " #   Column    Non-Null Count  Dtype  \n",
      "---  ------    --------------  -----  \n",
      " 0   Survived  891 non-null    int64  \n",
      " 1   Pclass    891 non-null    int64  \n",
      " 2   Name      891 non-null    object \n",
      " 3   Sex       891 non-null    object \n",
      " 4   Age       891 non-null    float64\n",
      " 5   SibSp     891 non-null    int64  \n",
      " 6   Parch     891 non-null    int64  \n",
      " 7   Fare      891 non-null    float64\n",
      " 8   Embarked  891 non-null    object \n",
      " 9   Prefix    891 non-null    object \n",
      "dtypes: float64(2), int64(4), object(4)\n",
      "memory usage: 69.7+ KB\n"
     ]
    }
   ],
   "source": [
    "train_data.info()"
   ]
  },
  {
   "cell_type": "code",
   "execution_count": 43,
   "metadata": {},
   "outputs": [],
   "source": [
    "train_data['Sex'] = pd.get_dummies(data=train_data['Sex'],drop_first=True)"
   ]
  },
  {
   "cell_type": "code",
   "execution_count": 44,
   "metadata": {},
   "outputs": [],
   "source": [
    "train_data['Embarked'] = pd.get_dummies(data=train_data['Embarked'],drop_first=True)"
   ]
  },
  {
   "cell_type": "code",
   "execution_count": 45,
   "metadata": {},
   "outputs": [],
   "source": [
    "train_data['Name'] = pd.get_dummies(data=train_data['Name'],drop_first=True)"
   ]
  },
  {
   "cell_type": "code",
   "execution_count": 46,
   "metadata": {},
   "outputs": [],
   "source": [
    "train_data['Prefix'] = pd.get_dummies(data=train_data['Prefix'],drop_first=True)"
   ]
  },
  {
   "cell_type": "code",
   "execution_count": 47,
   "metadata": {},
   "outputs": [],
   "source": [
    "X = train_data[['Pclass', 'Fare', 'Parch','Sex', 'Embarked']]\n",
    "y = train_data['Survived']"
   ]
  },
  {
   "cell_type": "code",
   "execution_count": 48,
   "metadata": {},
   "outputs": [],
   "source": [
    "from sklearn.model_selection import train_test_split\n",
    "X_train,X_test, y_train, y_test = train_test_split(X, y, test_size = 0.3, stratify = y)"
   ]
  },
  {
   "cell_type": "markdown",
   "execution_count": null,
   "metadata": {},
   "source": [
    "# Logistic Regeression:"
   ]
  },
  {
   "cell_type": "code",
   "execution_count": 49,
   "metadata": {},
   "outputs": [
    {
     "name": "stdout",
     "output_type": "stream",
     "text": [
      "0.7873134328358209\n"
     ]
    }
   ],
   "source": [
    "from sklearn.linear_model import LogisticRegression\n",
    "from sklearn.metrics import accuracy_score\n",
    "lr=LogisticRegression()\n",
    "lr.fit(X_train,y_train)\n",
    "y_pred = lr.predict(X_test)\n",
    "print(accuracy_score(y_test,y_pred))"
   ]
  },
  {
   "cell_type": "markdown",
   "execution_count": null,
   "metadata": {},
   "source": [
    "# Decision Tree"
   ]
  },
  {
   "cell_type": "code",
   "execution_count": 50,
   "metadata": {},
   "outputs": [],
   "source": [
    "from sklearn.tree import DecisionTreeClassifier\n",
    "from sklearn.model_selection import KFold\n",
    "from sklearn.model_selection import GridSearchCV"
   ]
  },
  {
   "cell_type": "code",
   "execution_count": 51,
   "metadata": {},
   "outputs": [
    {
     "name": "stdout",
     "output_type": "stream",
     "text": [
      "0.7873134328358209\n"
     ]
    }
   ],
   "source": [
    "dt=DecisionTreeClassifier(max_depth=4)\n",
    "dt.fit(X_train,y_train)\n",
    "d_pred=lr.predict(X_test)\n",
    "print(accuracy_score(y_test,d_pred))"
   ]
  },
  {
   "cell_type": "code",
   "execution_count": 52,
   "metadata": {},
   "outputs": [
    {
     "name": "stdout",
     "output_type": "stream",
     "text": [
      "Fitting 5 folds for each of 16 candidates, totalling 80 fits\n"
     ]
    },
    {
     "name": "stderr",
     "output_type": "stream",
     "text": [
      "[Parallel(n_jobs=1)]: Using backend SequentialBackend with 1 concurrent workers.\n",
      "[Parallel(n_jobs=1)]: Done  80 out of  80 | elapsed:    0.6s finished\n"
     ]
    },
    {
     "data": {
      "text/plain": [
       "GridSearchCV(cv=5, estimator=DecisionTreeClassifier(),\n",
       "             param_grid={'criterion': ['entropy', 'gini'],\n",
       "                         'max_depth': range(5, 15, 5),\n",
       "                         'min_samples_leaf': range(50, 150, 50),\n",
       "                         'min_samples_split': range(50, 150, 50)},\n",
       "             verbose=1)"
      ]
     },
     "execution_count": 52,
     "metadata": {},
     "output_type": "execute_result"
    }
   ],
   "source": [
    "# Create the parameter grid \n",
    "param_grid = {\n",
    "    'max_depth': range(5, 15, 5),\n",
    "    'min_samples_leaf': range(50, 150, 50),\n",
    "    'min_samples_split': range(50, 150, 50),\n",
    "    'criterion': [\"entropy\", \"gini\"]\n",
    "}\n",
    "\n",
    "n_folds = 5\n",
    "\n",
    "# Instantiate the grid search model\n",
    "dtree = DecisionTreeClassifier()\n",
    "grid_search = GridSearchCV(estimator = dtree, param_grid = param_grid, \n",
    "                          cv = n_folds, verbose = 1)\n",
    "\n",
    "# Fit the grid search to the data\n",
    "grid_search.fit(X_train,y_train)"
   ]
  },
  {
   "cell_type": "code",
   "execution_count": 53,
   "metadata": {},
   "outputs": [
    {
     "data": {
      "text/plain": [
       "{'criterion': 'entropy',\n",
       " 'max_depth': 5,\n",
       " 'min_samples_leaf': 100,\n",
       " 'min_samples_split': 50}"
      ]
     },
     "execution_count": 53,
     "metadata": {},
     "output_type": "execute_result"
    }
   ],
   "source": [
    "grid_search.best_params_"
   ]
  },
  {
   "cell_type": "code",
   "execution_count": 54,
   "metadata": {},
   "outputs": [
    {
     "data": {
      "text/plain": [
       "0.7865290322580647"
      ]
     },
     "execution_count": 54,
     "metadata": {},
     "output_type": "execute_result"
    }
   ],
   "source": [
    "grid_search.best_score_"
   ]
  },
  {
   "cell_type": "code",
   "execution_count": 55,
   "metadata": {},
   "outputs": [
    {
     "name": "stdout",
     "output_type": "stream",
     "text": [
      "0.7873134328358209\n"
     ]
    }
   ],
   "source": [
    "dt_default1 = DecisionTreeClassifier(max_depth=5,min_samples_leaf=100,min_samples_split=50,criterion='entropy')\n",
    "dt_default1.fit(X_train, y_train)\n",
    "dt_pred=dt_default1.predict(X_test)\n",
    "print(accuracy_score(y_test,dt_pred))"
   ]
  },
  {
   "cell_type": "markdown",
   "execution_count": null,
   "metadata": {},
   "source": [
    "# XGboost:"
   ]
  },
  {
   "cell_type": "code",
   "execution_count": 56,
   "metadata": {},
   "outputs": [],
   "source": [
    "import xgboost as XG"
   ]
  },
  {
   "cell_type": "code",
   "execution_count": 57,
   "metadata": {},
   "outputs": [
    {
     "name": "stdout",
     "output_type": "stream",
     "text": [
      "accuracy: 0.794776\n"
     ]
    }
   ],
   "source": [
    "xg = XG.XGBClassifier(objective='binary:logistic',\n",
    "n_estimators=10, seed=101)\n",
    "xg.fit(X_train, y_train)\n",
    "preds = xg.predict(X_test)\n",
    "accuracy = float(np.sum(preds==y_test))/y_test.shape[0]\n",
    "print(\"accuracy: %f\" % (accuracy))\n"
   ]
  },
  {
   "cell_type": "markdown",
   "execution_count": null,
   "metadata": {},
   "source": [
    "# Test data:"
   ]
  },
  {
   "cell_type": "code",
   "execution_count": 58,
   "metadata": {},
   "outputs": [],
   "source": [
    "test_data['Sex'] = pd.get_dummies(data=test_data['Sex'],drop_first=True)"
   ]
  },
  {
   "cell_type": "code",
   "execution_count": 59,
   "metadata": {},
   "outputs": [],
   "source": [
    "test_data['Embarked']=pd.get_dummies(data=test_data['Embarked'],drop_first=True)"
   ]
  },
  {
   "cell_type": "code",
   "execution_count": 60,
   "metadata": {},
   "outputs": [],
   "source": [
    "test_data.drop(['Name','Ticket','Cabin','Age'],axis=1,inplace=True)\n"
   ]
  },
  {
   "cell_type": "code",
   "execution_count": 61,
   "metadata": {},
   "outputs": [],
   "source": [
    "test_data.drop(['SibSp'],axis=1,inplace=True)"
   ]
  },
  {
   "cell_type": "code",
   "execution_count": 62,
   "metadata": {},
   "outputs": [],
   "source": [
    "test_data['Fare'] = test_data['Fare'].fillna(0)"
   ]
  },
  {
   "cell_type": "code",
   "execution_count": 63,
   "metadata": {},
   "outputs": [],
   "source": [
    "test_data['Fare'] = test_data['Fare'].astype('int')"
   ]
  },
  {
   "cell_type": "code",
   "execution_count": 64,
   "metadata": {},
   "outputs": [],
   "source": [
    "X_test_set = test_data[['Pclass', 'Fare','Parch','Sex', 'Embarked']]"
   ]
  },
  {
   "cell_type": "code",
   "execution_count": 65,
   "metadata": {},
   "outputs": [],
   "source": [
    "predictions = xg.predict(X_test_set)"
   ]
  },
  {
   "cell_type": "code",
   "execution_count": 66,
   "metadata": {},
   "outputs": [
    {
     "name": "stdout",
     "output_type": "stream",
     "text": [
      "(418, 2)\n",
      "Saved file: Titanic Predictions.csv\n",
      "Your submission was successfully saved!\n"
     ]
    }
   ],
   "source": [
    "submission = pd.DataFrame({'PassengerId':test_data.PassengerId,'Survived':predictions})\n",
    "submission.Survived = submission.Survived.astype(int)\n",
    "print(submission.shape)\n",
    "filename = 'Titanic Predictions.csv'\n",
    "submission.to_csv(filename,index=False)\n",
    "print('Saved file: ' + filename)\n",
    "print(\"Your submission was successfully saved!\")"
   ]
  },
  {
   "cell_type": "code",
   "execution_count": null,
   "metadata": {},
   "outputs": [],
   "source": []
  }
 ],
 "metadata": {
  "kernelspec": {
   "display_name": "Python 3",
   "language": "python",
   "name": "python3"
  },
  "language_info": {
   "codemirror_mode": {
    "name": "ipython",
    "version": 3
   },
   "file_extension": ".py",
   "mimetype": "text/x-python",
   "name": "python",
   "nbconvert_exporter": "python",
   "pygments_lexer": "ipython3",
   "version": "3.7.6"
  }
 },
 "nbformat": 4,
 "nbformat_minor": 4
}
